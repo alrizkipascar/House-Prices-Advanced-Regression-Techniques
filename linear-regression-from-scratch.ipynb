{
 "cells": [
  {
   "cell_type": "markdown",
   "id": "38829976",
   "metadata": {
    "papermill": {
     "duration": 0.010894,
     "end_time": "2022-11-28T15:12:48.099211",
     "exception": false,
     "start_time": "2022-11-28T15:12:48.088317",
     "status": "completed"
    },
    "tags": []
   },
   "source": [
    "# Import Library"
   ]
  },
  {
   "cell_type": "code",
   "execution_count": 1,
   "id": "72893cf9",
   "metadata": {
    "_cell_guid": "b1076dfc-b9ad-4769-8c92-a6c4dae69d19",
    "_uuid": "8f2839f25d086af736a60e9eeb907d3b93b6e0e5",
    "execution": {
     "iopub.execute_input": "2022-11-28T15:12:48.119729Z",
     "iopub.status.busy": "2022-11-28T15:12:48.119119Z",
     "iopub.status.idle": "2022-11-28T15:12:48.134042Z",
     "shell.execute_reply": "2022-11-28T15:12:48.133167Z"
    },
    "papermill": {
     "duration": 0.028305,
     "end_time": "2022-11-28T15:12:48.136642",
     "exception": false,
     "start_time": "2022-11-28T15:12:48.108337",
     "status": "completed"
    },
    "tags": []
   },
   "outputs": [],
   "source": [
    "import pandas as pd\n",
    "import numpy as np\n",
    "import copy\n",
    "import math\n",
    "\n",
    "%matplotlib inline"
   ]
  },
  {
   "cell_type": "markdown",
   "id": "ab159ae5",
   "metadata": {
    "papermill": {
     "duration": 0.008585,
     "end_time": "2022-11-28T15:12:48.154253",
     "exception": false,
     "start_time": "2022-11-28T15:12:48.145668",
     "status": "completed"
    },
    "tags": []
   },
   "source": [
    "# Data PreProcessing\n",
    "1. Remove Nan and null data\n",
    "2. Remove Object data (we only use numerical data)\n"
   ]
  },
  {
   "cell_type": "code",
   "execution_count": 2,
   "id": "ddb92796",
   "metadata": {
    "execution": {
     "iopub.execute_input": "2022-11-28T15:12:48.173554Z",
     "iopub.status.busy": "2022-11-28T15:12:48.173161Z",
     "iopub.status.idle": "2022-11-28T15:12:48.250207Z",
     "shell.execute_reply": "2022-11-28T15:12:48.249197Z"
    },
    "papermill": {
     "duration": 0.089705,
     "end_time": "2022-11-28T15:12:48.252848",
     "exception": false,
     "start_time": "2022-11-28T15:12:48.163143",
     "status": "completed"
    },
    "tags": []
   },
   "outputs": [],
   "source": [
    "#read data\n",
    "train_df = pd.read_csv(\"/kaggle/input/house-prices-advanced-regression-techniques/train.csv\")\n",
    "test_df = pd.read_csv(\"/kaggle/input/house-prices-advanced-regression-techniques/test.csv\")\n"
   ]
  },
  {
   "cell_type": "code",
   "execution_count": 3,
   "id": "7d58c8ce",
   "metadata": {
    "execution": {
     "iopub.execute_input": "2022-11-28T15:12:48.275440Z",
     "iopub.status.busy": "2022-11-28T15:12:48.274646Z",
     "iopub.status.idle": "2022-11-28T15:12:48.283763Z",
     "shell.execute_reply": "2022-11-28T15:12:48.282711Z"
    },
    "papermill": {
     "duration": 0.023049,
     "end_time": "2022-11-28T15:12:48.286813",
     "exception": false,
     "start_time": "2022-11-28T15:12:48.263764",
     "status": "completed"
    },
    "tags": []
   },
   "outputs": [
    {
     "data": {
      "text/plain": [
       "((1460, 81), (1459, 80))"
      ]
     },
     "execution_count": 3,
     "metadata": {},
     "output_type": "execute_result"
    }
   ],
   "source": [
    "train_df.shape, test_df.shape"
   ]
  },
  {
   "cell_type": "code",
   "execution_count": 4,
   "id": "d4de32d3",
   "metadata": {
    "execution": {
     "iopub.execute_input": "2022-11-28T15:12:48.310325Z",
     "iopub.status.busy": "2022-11-28T15:12:48.309497Z",
     "iopub.status.idle": "2022-11-28T15:12:48.347372Z",
     "shell.execute_reply": "2022-11-28T15:12:48.346309Z"
    },
    "papermill": {
     "duration": 0.053061,
     "end_time": "2022-11-28T15:12:48.350135",
     "exception": false,
     "start_time": "2022-11-28T15:12:48.297074",
     "status": "completed"
    },
    "tags": []
   },
   "outputs": [
    {
     "data": {
      "text/html": [
       "<div>\n",
       "<style scoped>\n",
       "    .dataframe tbody tr th:only-of-type {\n",
       "        vertical-align: middle;\n",
       "    }\n",
       "\n",
       "    .dataframe tbody tr th {\n",
       "        vertical-align: top;\n",
       "    }\n",
       "\n",
       "    .dataframe thead th {\n",
       "        text-align: right;\n",
       "    }\n",
       "</style>\n",
       "<table border=\"1\" class=\"dataframe\">\n",
       "  <thead>\n",
       "    <tr style=\"text-align: right;\">\n",
       "      <th></th>\n",
       "      <th>Id</th>\n",
       "      <th>MSSubClass</th>\n",
       "      <th>MSZoning</th>\n",
       "      <th>LotFrontage</th>\n",
       "      <th>LotArea</th>\n",
       "      <th>Street</th>\n",
       "      <th>Alley</th>\n",
       "      <th>LotShape</th>\n",
       "      <th>LandContour</th>\n",
       "      <th>Utilities</th>\n",
       "      <th>...</th>\n",
       "      <th>PoolArea</th>\n",
       "      <th>PoolQC</th>\n",
       "      <th>Fence</th>\n",
       "      <th>MiscFeature</th>\n",
       "      <th>MiscVal</th>\n",
       "      <th>MoSold</th>\n",
       "      <th>YrSold</th>\n",
       "      <th>SaleType</th>\n",
       "      <th>SaleCondition</th>\n",
       "      <th>SalePrice</th>\n",
       "    </tr>\n",
       "  </thead>\n",
       "  <tbody>\n",
       "    <tr>\n",
       "      <th>0</th>\n",
       "      <td>1</td>\n",
       "      <td>60</td>\n",
       "      <td>RL</td>\n",
       "      <td>65.0</td>\n",
       "      <td>8450</td>\n",
       "      <td>Pave</td>\n",
       "      <td>NaN</td>\n",
       "      <td>Reg</td>\n",
       "      <td>Lvl</td>\n",
       "      <td>AllPub</td>\n",
       "      <td>...</td>\n",
       "      <td>0</td>\n",
       "      <td>NaN</td>\n",
       "      <td>NaN</td>\n",
       "      <td>NaN</td>\n",
       "      <td>0</td>\n",
       "      <td>2</td>\n",
       "      <td>2008</td>\n",
       "      <td>WD</td>\n",
       "      <td>Normal</td>\n",
       "      <td>208500</td>\n",
       "    </tr>\n",
       "    <tr>\n",
       "      <th>1</th>\n",
       "      <td>2</td>\n",
       "      <td>20</td>\n",
       "      <td>RL</td>\n",
       "      <td>80.0</td>\n",
       "      <td>9600</td>\n",
       "      <td>Pave</td>\n",
       "      <td>NaN</td>\n",
       "      <td>Reg</td>\n",
       "      <td>Lvl</td>\n",
       "      <td>AllPub</td>\n",
       "      <td>...</td>\n",
       "      <td>0</td>\n",
       "      <td>NaN</td>\n",
       "      <td>NaN</td>\n",
       "      <td>NaN</td>\n",
       "      <td>0</td>\n",
       "      <td>5</td>\n",
       "      <td>2007</td>\n",
       "      <td>WD</td>\n",
       "      <td>Normal</td>\n",
       "      <td>181500</td>\n",
       "    </tr>\n",
       "    <tr>\n",
       "      <th>2</th>\n",
       "      <td>3</td>\n",
       "      <td>60</td>\n",
       "      <td>RL</td>\n",
       "      <td>68.0</td>\n",
       "      <td>11250</td>\n",
       "      <td>Pave</td>\n",
       "      <td>NaN</td>\n",
       "      <td>IR1</td>\n",
       "      <td>Lvl</td>\n",
       "      <td>AllPub</td>\n",
       "      <td>...</td>\n",
       "      <td>0</td>\n",
       "      <td>NaN</td>\n",
       "      <td>NaN</td>\n",
       "      <td>NaN</td>\n",
       "      <td>0</td>\n",
       "      <td>9</td>\n",
       "      <td>2008</td>\n",
       "      <td>WD</td>\n",
       "      <td>Normal</td>\n",
       "      <td>223500</td>\n",
       "    </tr>\n",
       "  </tbody>\n",
       "</table>\n",
       "<p>3 rows × 81 columns</p>\n",
       "</div>"
      ],
      "text/plain": [
       "   Id  MSSubClass MSZoning  LotFrontage  LotArea Street Alley LotShape  \\\n",
       "0   1          60       RL         65.0     8450   Pave   NaN      Reg   \n",
       "1   2          20       RL         80.0     9600   Pave   NaN      Reg   \n",
       "2   3          60       RL         68.0    11250   Pave   NaN      IR1   \n",
       "\n",
       "  LandContour Utilities  ... PoolArea PoolQC Fence MiscFeature MiscVal MoSold  \\\n",
       "0         Lvl    AllPub  ...        0    NaN   NaN         NaN       0      2   \n",
       "1         Lvl    AllPub  ...        0    NaN   NaN         NaN       0      5   \n",
       "2         Lvl    AllPub  ...        0    NaN   NaN         NaN       0      9   \n",
       "\n",
       "  YrSold  SaleType  SaleCondition  SalePrice  \n",
       "0   2008        WD         Normal     208500  \n",
       "1   2007        WD         Normal     181500  \n",
       "2   2008        WD         Normal     223500  \n",
       "\n",
       "[3 rows x 81 columns]"
      ]
     },
     "execution_count": 4,
     "metadata": {},
     "output_type": "execute_result"
    }
   ],
   "source": [
    "train_df.head(3)"
   ]
  },
  {
   "cell_type": "code",
   "execution_count": 5,
   "id": "dc235c63",
   "metadata": {
    "execution": {
     "iopub.execute_input": "2022-11-28T15:12:48.371168Z",
     "iopub.status.busy": "2022-11-28T15:12:48.370722Z",
     "iopub.status.idle": "2022-11-28T15:12:48.396175Z",
     "shell.execute_reply": "2022-11-28T15:12:48.394780Z"
    },
    "papermill": {
     "duration": 0.039181,
     "end_time": "2022-11-28T15:12:48.399108",
     "exception": false,
     "start_time": "2022-11-28T15:12:48.359927",
     "status": "completed"
    },
    "tags": []
   },
   "outputs": [
    {
     "data": {
      "text/html": [
       "<div>\n",
       "<style scoped>\n",
       "    .dataframe tbody tr th:only-of-type {\n",
       "        vertical-align: middle;\n",
       "    }\n",
       "\n",
       "    .dataframe tbody tr th {\n",
       "        vertical-align: top;\n",
       "    }\n",
       "\n",
       "    .dataframe thead th {\n",
       "        text-align: right;\n",
       "    }\n",
       "</style>\n",
       "<table border=\"1\" class=\"dataframe\">\n",
       "  <thead>\n",
       "    <tr style=\"text-align: right;\">\n",
       "      <th></th>\n",
       "      <th>Id</th>\n",
       "      <th>MSSubClass</th>\n",
       "      <th>MSZoning</th>\n",
       "      <th>LotFrontage</th>\n",
       "      <th>LotArea</th>\n",
       "      <th>Street</th>\n",
       "      <th>Alley</th>\n",
       "      <th>LotShape</th>\n",
       "      <th>LandContour</th>\n",
       "      <th>Utilities</th>\n",
       "      <th>...</th>\n",
       "      <th>ScreenPorch</th>\n",
       "      <th>PoolArea</th>\n",
       "      <th>PoolQC</th>\n",
       "      <th>Fence</th>\n",
       "      <th>MiscFeature</th>\n",
       "      <th>MiscVal</th>\n",
       "      <th>MoSold</th>\n",
       "      <th>YrSold</th>\n",
       "      <th>SaleType</th>\n",
       "      <th>SaleCondition</th>\n",
       "    </tr>\n",
       "  </thead>\n",
       "  <tbody>\n",
       "    <tr>\n",
       "      <th>0</th>\n",
       "      <td>1461</td>\n",
       "      <td>20</td>\n",
       "      <td>RH</td>\n",
       "      <td>80.0</td>\n",
       "      <td>11622</td>\n",
       "      <td>Pave</td>\n",
       "      <td>NaN</td>\n",
       "      <td>Reg</td>\n",
       "      <td>Lvl</td>\n",
       "      <td>AllPub</td>\n",
       "      <td>...</td>\n",
       "      <td>120</td>\n",
       "      <td>0</td>\n",
       "      <td>NaN</td>\n",
       "      <td>MnPrv</td>\n",
       "      <td>NaN</td>\n",
       "      <td>0</td>\n",
       "      <td>6</td>\n",
       "      <td>2010</td>\n",
       "      <td>WD</td>\n",
       "      <td>Normal</td>\n",
       "    </tr>\n",
       "    <tr>\n",
       "      <th>1</th>\n",
       "      <td>1462</td>\n",
       "      <td>20</td>\n",
       "      <td>RL</td>\n",
       "      <td>81.0</td>\n",
       "      <td>14267</td>\n",
       "      <td>Pave</td>\n",
       "      <td>NaN</td>\n",
       "      <td>IR1</td>\n",
       "      <td>Lvl</td>\n",
       "      <td>AllPub</td>\n",
       "      <td>...</td>\n",
       "      <td>0</td>\n",
       "      <td>0</td>\n",
       "      <td>NaN</td>\n",
       "      <td>NaN</td>\n",
       "      <td>Gar2</td>\n",
       "      <td>12500</td>\n",
       "      <td>6</td>\n",
       "      <td>2010</td>\n",
       "      <td>WD</td>\n",
       "      <td>Normal</td>\n",
       "    </tr>\n",
       "    <tr>\n",
       "      <th>2</th>\n",
       "      <td>1463</td>\n",
       "      <td>60</td>\n",
       "      <td>RL</td>\n",
       "      <td>74.0</td>\n",
       "      <td>13830</td>\n",
       "      <td>Pave</td>\n",
       "      <td>NaN</td>\n",
       "      <td>IR1</td>\n",
       "      <td>Lvl</td>\n",
       "      <td>AllPub</td>\n",
       "      <td>...</td>\n",
       "      <td>0</td>\n",
       "      <td>0</td>\n",
       "      <td>NaN</td>\n",
       "      <td>MnPrv</td>\n",
       "      <td>NaN</td>\n",
       "      <td>0</td>\n",
       "      <td>3</td>\n",
       "      <td>2010</td>\n",
       "      <td>WD</td>\n",
       "      <td>Normal</td>\n",
       "    </tr>\n",
       "  </tbody>\n",
       "</table>\n",
       "<p>3 rows × 80 columns</p>\n",
       "</div>"
      ],
      "text/plain": [
       "     Id  MSSubClass MSZoning  LotFrontage  LotArea Street Alley LotShape  \\\n",
       "0  1461          20       RH         80.0    11622   Pave   NaN      Reg   \n",
       "1  1462          20       RL         81.0    14267   Pave   NaN      IR1   \n",
       "2  1463          60       RL         74.0    13830   Pave   NaN      IR1   \n",
       "\n",
       "  LandContour Utilities  ... ScreenPorch PoolArea PoolQC  Fence MiscFeature  \\\n",
       "0         Lvl    AllPub  ...         120        0    NaN  MnPrv         NaN   \n",
       "1         Lvl    AllPub  ...           0        0    NaN    NaN        Gar2   \n",
       "2         Lvl    AllPub  ...           0        0    NaN  MnPrv         NaN   \n",
       "\n",
       "  MiscVal MoSold  YrSold  SaleType  SaleCondition  \n",
       "0       0      6    2010        WD         Normal  \n",
       "1   12500      6    2010        WD         Normal  \n",
       "2       0      3    2010        WD         Normal  \n",
       "\n",
       "[3 rows x 80 columns]"
      ]
     },
     "execution_count": 5,
     "metadata": {},
     "output_type": "execute_result"
    }
   ],
   "source": [
    "test_df.head(3)"
   ]
  },
  {
   "cell_type": "code",
   "execution_count": 6,
   "id": "6a5c1795",
   "metadata": {
    "execution": {
     "iopub.execute_input": "2022-11-28T15:12:48.421692Z",
     "iopub.status.busy": "2022-11-28T15:12:48.421057Z",
     "iopub.status.idle": "2022-11-28T15:12:48.450104Z",
     "shell.execute_reply": "2022-11-28T15:12:48.448423Z"
    },
    "papermill": {
     "duration": 0.043541,
     "end_time": "2022-11-28T15:12:48.453258",
     "exception": false,
     "start_time": "2022-11-28T15:12:48.409717",
     "status": "completed"
    },
    "tags": []
   },
   "outputs": [
    {
     "name": "stdout",
     "output_type": "stream",
     "text": [
      "<class 'pandas.core.frame.DataFrame'>\n",
      "RangeIndex: 1460 entries, 0 to 1459\n",
      "Data columns (total 81 columns):\n",
      " #   Column         Non-Null Count  Dtype  \n",
      "---  ------         --------------  -----  \n",
      " 0   Id             1460 non-null   int64  \n",
      " 1   MSSubClass     1460 non-null   int64  \n",
      " 2   MSZoning       1460 non-null   object \n",
      " 3   LotFrontage    1201 non-null   float64\n",
      " 4   LotArea        1460 non-null   int64  \n",
      " 5   Street         1460 non-null   object \n",
      " 6   Alley          91 non-null     object \n",
      " 7   LotShape       1460 non-null   object \n",
      " 8   LandContour    1460 non-null   object \n",
      " 9   Utilities      1460 non-null   object \n",
      " 10  LotConfig      1460 non-null   object \n",
      " 11  LandSlope      1460 non-null   object \n",
      " 12  Neighborhood   1460 non-null   object \n",
      " 13  Condition1     1460 non-null   object \n",
      " 14  Condition2     1460 non-null   object \n",
      " 15  BldgType       1460 non-null   object \n",
      " 16  HouseStyle     1460 non-null   object \n",
      " 17  OverallQual    1460 non-null   int64  \n",
      " 18  OverallCond    1460 non-null   int64  \n",
      " 19  YearBuilt      1460 non-null   int64  \n",
      " 20  YearRemodAdd   1460 non-null   int64  \n",
      " 21  RoofStyle      1460 non-null   object \n",
      " 22  RoofMatl       1460 non-null   object \n",
      " 23  Exterior1st    1460 non-null   object \n",
      " 24  Exterior2nd    1460 non-null   object \n",
      " 25  MasVnrType     1452 non-null   object \n",
      " 26  MasVnrArea     1452 non-null   float64\n",
      " 27  ExterQual      1460 non-null   object \n",
      " 28  ExterCond      1460 non-null   object \n",
      " 29  Foundation     1460 non-null   object \n",
      " 30  BsmtQual       1423 non-null   object \n",
      " 31  BsmtCond       1423 non-null   object \n",
      " 32  BsmtExposure   1422 non-null   object \n",
      " 33  BsmtFinType1   1423 non-null   object \n",
      " 34  BsmtFinSF1     1460 non-null   int64  \n",
      " 35  BsmtFinType2   1422 non-null   object \n",
      " 36  BsmtFinSF2     1460 non-null   int64  \n",
      " 37  BsmtUnfSF      1460 non-null   int64  \n",
      " 38  TotalBsmtSF    1460 non-null   int64  \n",
      " 39  Heating        1460 non-null   object \n",
      " 40  HeatingQC      1460 non-null   object \n",
      " 41  CentralAir     1460 non-null   object \n",
      " 42  Electrical     1459 non-null   object \n",
      " 43  1stFlrSF       1460 non-null   int64  \n",
      " 44  2ndFlrSF       1460 non-null   int64  \n",
      " 45  LowQualFinSF   1460 non-null   int64  \n",
      " 46  GrLivArea      1460 non-null   int64  \n",
      " 47  BsmtFullBath   1460 non-null   int64  \n",
      " 48  BsmtHalfBath   1460 non-null   int64  \n",
      " 49  FullBath       1460 non-null   int64  \n",
      " 50  HalfBath       1460 non-null   int64  \n",
      " 51  BedroomAbvGr   1460 non-null   int64  \n",
      " 52  KitchenAbvGr   1460 non-null   int64  \n",
      " 53  KitchenQual    1460 non-null   object \n",
      " 54  TotRmsAbvGrd   1460 non-null   int64  \n",
      " 55  Functional     1460 non-null   object \n",
      " 56  Fireplaces     1460 non-null   int64  \n",
      " 57  FireplaceQu    770 non-null    object \n",
      " 58  GarageType     1379 non-null   object \n",
      " 59  GarageYrBlt    1379 non-null   float64\n",
      " 60  GarageFinish   1379 non-null   object \n",
      " 61  GarageCars     1460 non-null   int64  \n",
      " 62  GarageArea     1460 non-null   int64  \n",
      " 63  GarageQual     1379 non-null   object \n",
      " 64  GarageCond     1379 non-null   object \n",
      " 65  PavedDrive     1460 non-null   object \n",
      " 66  WoodDeckSF     1460 non-null   int64  \n",
      " 67  OpenPorchSF    1460 non-null   int64  \n",
      " 68  EnclosedPorch  1460 non-null   int64  \n",
      " 69  3SsnPorch      1460 non-null   int64  \n",
      " 70  ScreenPorch    1460 non-null   int64  \n",
      " 71  PoolArea       1460 non-null   int64  \n",
      " 72  PoolQC         7 non-null      object \n",
      " 73  Fence          281 non-null    object \n",
      " 74  MiscFeature    54 non-null     object \n",
      " 75  MiscVal        1460 non-null   int64  \n",
      " 76  MoSold         1460 non-null   int64  \n",
      " 77  YrSold         1460 non-null   int64  \n",
      " 78  SaleType       1460 non-null   object \n",
      " 79  SaleCondition  1460 non-null   object \n",
      " 80  SalePrice      1460 non-null   int64  \n",
      "dtypes: float64(3), int64(35), object(43)\n",
      "memory usage: 924.0+ KB\n"
     ]
    }
   ],
   "source": [
    "train_df.info()"
   ]
  },
  {
   "cell_type": "code",
   "execution_count": 7,
   "id": "57fd8820",
   "metadata": {
    "execution": {
     "iopub.execute_input": "2022-11-28T15:12:48.475883Z",
     "iopub.status.busy": "2022-11-28T15:12:48.475251Z",
     "iopub.status.idle": "2022-11-28T15:12:48.496668Z",
     "shell.execute_reply": "2022-11-28T15:12:48.495691Z"
    },
    "papermill": {
     "duration": 0.036504,
     "end_time": "2022-11-28T15:12:48.500046",
     "exception": false,
     "start_time": "2022-11-28T15:12:48.463542",
     "status": "completed"
    },
    "tags": []
   },
   "outputs": [
    {
     "name": "stdout",
     "output_type": "stream",
     "text": [
      "['MSZoning', 'Street', 'Alley', 'LotShape', 'LandContour', 'Utilities', 'LotConfig', 'LandSlope', 'Neighborhood', 'Condition1', 'Condition2', 'BldgType', 'HouseStyle', 'RoofStyle', 'RoofMatl', 'Exterior1st', 'Exterior2nd', 'MasVnrType', 'ExterQual', 'ExterCond', 'Foundation', 'BsmtQual', 'BsmtCond', 'BsmtExposure', 'BsmtFinType1', 'BsmtFinType2', 'Heating', 'HeatingQC', 'CentralAir', 'Electrical', 'KitchenQual', 'Functional', 'FireplaceQu', 'GarageType', 'GarageFinish', 'GarageQual', 'GarageCond', 'PavedDrive', 'PoolQC', 'Fence', 'MiscFeature', 'SaleType', 'SaleCondition']\n"
     ]
    }
   ],
   "source": [
    "del_col = []\n",
    "for column in train_df.columns:\n",
    "    if (train_df[column].dtype == float or train_df[column].dtype == int):\n",
    "        pass\n",
    "    else:\n",
    "        del_col.append(column)\n",
    "    if train_df[column].isnull().all():\n",
    "        del_col.append(column)\n",
    "\n",
    "print(del_col)"
   ]
  },
  {
   "cell_type": "code",
   "execution_count": 8,
   "id": "971b0802",
   "metadata": {
    "execution": {
     "iopub.execute_input": "2022-11-28T15:12:48.523600Z",
     "iopub.status.busy": "2022-11-28T15:12:48.523213Z",
     "iopub.status.idle": "2022-11-28T15:12:48.540113Z",
     "shell.execute_reply": "2022-11-28T15:12:48.538545Z"
    },
    "papermill": {
     "duration": 0.031568,
     "end_time": "2022-11-28T15:12:48.542835",
     "exception": false,
     "start_time": "2022-11-28T15:12:48.511267",
     "status": "completed"
    },
    "tags": []
   },
   "outputs": [
    {
     "name": "stdout",
     "output_type": "stream",
     "text": [
      "<class 'pandas.core.frame.DataFrame'>\n",
      "RangeIndex: 1460 entries, 0 to 1459\n",
      "Data columns (total 38 columns):\n",
      " #   Column         Non-Null Count  Dtype  \n",
      "---  ------         --------------  -----  \n",
      " 0   Id             1460 non-null   int64  \n",
      " 1   MSSubClass     1460 non-null   int64  \n",
      " 2   LotFrontage    1201 non-null   float64\n",
      " 3   LotArea        1460 non-null   int64  \n",
      " 4   OverallQual    1460 non-null   int64  \n",
      " 5   OverallCond    1460 non-null   int64  \n",
      " 6   YearBuilt      1460 non-null   int64  \n",
      " 7   YearRemodAdd   1460 non-null   int64  \n",
      " 8   MasVnrArea     1452 non-null   float64\n",
      " 9   BsmtFinSF1     1460 non-null   int64  \n",
      " 10  BsmtFinSF2     1460 non-null   int64  \n",
      " 11  BsmtUnfSF      1460 non-null   int64  \n",
      " 12  TotalBsmtSF    1460 non-null   int64  \n",
      " 13  1stFlrSF       1460 non-null   int64  \n",
      " 14  2ndFlrSF       1460 non-null   int64  \n",
      " 15  LowQualFinSF   1460 non-null   int64  \n",
      " 16  GrLivArea      1460 non-null   int64  \n",
      " 17  BsmtFullBath   1460 non-null   int64  \n",
      " 18  BsmtHalfBath   1460 non-null   int64  \n",
      " 19  FullBath       1460 non-null   int64  \n",
      " 20  HalfBath       1460 non-null   int64  \n",
      " 21  BedroomAbvGr   1460 non-null   int64  \n",
      " 22  KitchenAbvGr   1460 non-null   int64  \n",
      " 23  TotRmsAbvGrd   1460 non-null   int64  \n",
      " 24  Fireplaces     1460 non-null   int64  \n",
      " 25  GarageYrBlt    1379 non-null   float64\n",
      " 26  GarageCars     1460 non-null   int64  \n",
      " 27  GarageArea     1460 non-null   int64  \n",
      " 28  WoodDeckSF     1460 non-null   int64  \n",
      " 29  OpenPorchSF    1460 non-null   int64  \n",
      " 30  EnclosedPorch  1460 non-null   int64  \n",
      " 31  3SsnPorch      1460 non-null   int64  \n",
      " 32  ScreenPorch    1460 non-null   int64  \n",
      " 33  PoolArea       1460 non-null   int64  \n",
      " 34  MiscVal        1460 non-null   int64  \n",
      " 35  MoSold         1460 non-null   int64  \n",
      " 36  YrSold         1460 non-null   int64  \n",
      " 37  SalePrice      1460 non-null   int64  \n",
      "dtypes: float64(3), int64(35)\n",
      "memory usage: 433.6 KB\n"
     ]
    }
   ],
   "source": [
    "clean_train_df = train_df.drop(del_col,axis=1)\n",
    "clean_train_df.info()"
   ]
  },
  {
   "cell_type": "code",
   "execution_count": 9,
   "id": "c4d2072a",
   "metadata": {
    "execution": {
     "iopub.execute_input": "2022-11-28T15:12:48.565257Z",
     "iopub.status.busy": "2022-11-28T15:12:48.564608Z",
     "iopub.status.idle": "2022-11-28T15:12:48.580888Z",
     "shell.execute_reply": "2022-11-28T15:12:48.579087Z"
    },
    "papermill": {
     "duration": 0.031067,
     "end_time": "2022-11-28T15:12:48.584183",
     "exception": false,
     "start_time": "2022-11-28T15:12:48.553116",
     "status": "completed"
    },
    "tags": []
   },
   "outputs": [
    {
     "name": "stdout",
     "output_type": "stream",
     "text": [
      "<class 'pandas.core.frame.DataFrame'>\n",
      "RangeIndex: 1460 entries, 0 to 1459\n",
      "Data columns (total 34 columns):\n",
      " #   Column         Non-Null Count  Dtype\n",
      "---  ------         --------------  -----\n",
      " 0   MSSubClass     1460 non-null   int64\n",
      " 1   LotArea        1460 non-null   int64\n",
      " 2   OverallQual    1460 non-null   int64\n",
      " 3   OverallCond    1460 non-null   int64\n",
      " 4   YearBuilt      1460 non-null   int64\n",
      " 5   YearRemodAdd   1460 non-null   int64\n",
      " 6   BsmtFinSF1     1460 non-null   int64\n",
      " 7   BsmtFinSF2     1460 non-null   int64\n",
      " 8   BsmtUnfSF      1460 non-null   int64\n",
      " 9   TotalBsmtSF    1460 non-null   int64\n",
      " 10  1stFlrSF       1460 non-null   int64\n",
      " 11  2ndFlrSF       1460 non-null   int64\n",
      " 12  LowQualFinSF   1460 non-null   int64\n",
      " 13  GrLivArea      1460 non-null   int64\n",
      " 14  BsmtFullBath   1460 non-null   int64\n",
      " 15  BsmtHalfBath   1460 non-null   int64\n",
      " 16  FullBath       1460 non-null   int64\n",
      " 17  HalfBath       1460 non-null   int64\n",
      " 18  BedroomAbvGr   1460 non-null   int64\n",
      " 19  KitchenAbvGr   1460 non-null   int64\n",
      " 20  TotRmsAbvGrd   1460 non-null   int64\n",
      " 21  Fireplaces     1460 non-null   int64\n",
      " 22  GarageCars     1460 non-null   int64\n",
      " 23  GarageArea     1460 non-null   int64\n",
      " 24  WoodDeckSF     1460 non-null   int64\n",
      " 25  OpenPorchSF    1460 non-null   int64\n",
      " 26  EnclosedPorch  1460 non-null   int64\n",
      " 27  3SsnPorch      1460 non-null   int64\n",
      " 28  ScreenPorch    1460 non-null   int64\n",
      " 29  PoolArea       1460 non-null   int64\n",
      " 30  MiscVal        1460 non-null   int64\n",
      " 31  MoSold         1460 non-null   int64\n",
      " 32  YrSold         1460 non-null   int64\n",
      " 33  SalePrice      1460 non-null   int64\n",
      "dtypes: int64(34)\n",
      "memory usage: 387.9 KB\n"
     ]
    }
   ],
   "source": [
    "clean_train_df = clean_train_df.drop(['LotFrontage','MasVnrArea','GarageYrBlt','Id'],axis=1)\n",
    "clean_train_df.info()"
   ]
  },
  {
   "cell_type": "code",
   "execution_count": 10,
   "id": "09f94cbf",
   "metadata": {
    "execution": {
     "iopub.execute_input": "2022-11-28T15:12:48.607961Z",
     "iopub.status.busy": "2022-11-28T15:12:48.606731Z",
     "iopub.status.idle": "2022-11-28T15:12:48.625756Z",
     "shell.execute_reply": "2022-11-28T15:12:48.624701Z"
    },
    "papermill": {
     "duration": 0.033185,
     "end_time": "2022-11-28T15:12:48.627958",
     "exception": false,
     "start_time": "2022-11-28T15:12:48.594773",
     "status": "completed"
    },
    "tags": []
   },
   "outputs": [
    {
     "data": {
      "text/html": [
       "<div>\n",
       "<style scoped>\n",
       "    .dataframe tbody tr th:only-of-type {\n",
       "        vertical-align: middle;\n",
       "    }\n",
       "\n",
       "    .dataframe tbody tr th {\n",
       "        vertical-align: top;\n",
       "    }\n",
       "\n",
       "    .dataframe thead th {\n",
       "        text-align: right;\n",
       "    }\n",
       "</style>\n",
       "<table border=\"1\" class=\"dataframe\">\n",
       "  <thead>\n",
       "    <tr style=\"text-align: right;\">\n",
       "      <th></th>\n",
       "      <th>MSSubClass</th>\n",
       "      <th>LotArea</th>\n",
       "      <th>OverallQual</th>\n",
       "      <th>OverallCond</th>\n",
       "      <th>YearBuilt</th>\n",
       "      <th>YearRemodAdd</th>\n",
       "      <th>BsmtFinSF1</th>\n",
       "      <th>BsmtFinSF2</th>\n",
       "      <th>BsmtUnfSF</th>\n",
       "      <th>TotalBsmtSF</th>\n",
       "      <th>...</th>\n",
       "      <th>WoodDeckSF</th>\n",
       "      <th>OpenPorchSF</th>\n",
       "      <th>EnclosedPorch</th>\n",
       "      <th>3SsnPorch</th>\n",
       "      <th>ScreenPorch</th>\n",
       "      <th>PoolArea</th>\n",
       "      <th>MiscVal</th>\n",
       "      <th>MoSold</th>\n",
       "      <th>YrSold</th>\n",
       "      <th>SalePrice</th>\n",
       "    </tr>\n",
       "  </thead>\n",
       "  <tbody>\n",
       "    <tr>\n",
       "      <th>0</th>\n",
       "      <td>60</td>\n",
       "      <td>8450</td>\n",
       "      <td>7</td>\n",
       "      <td>5</td>\n",
       "      <td>2003</td>\n",
       "      <td>2003</td>\n",
       "      <td>706</td>\n",
       "      <td>0</td>\n",
       "      <td>150</td>\n",
       "      <td>856</td>\n",
       "      <td>...</td>\n",
       "      <td>0</td>\n",
       "      <td>61</td>\n",
       "      <td>0</td>\n",
       "      <td>0</td>\n",
       "      <td>0</td>\n",
       "      <td>0</td>\n",
       "      <td>0</td>\n",
       "      <td>2</td>\n",
       "      <td>2008</td>\n",
       "      <td>208500</td>\n",
       "    </tr>\n",
       "    <tr>\n",
       "      <th>1</th>\n",
       "      <td>20</td>\n",
       "      <td>9600</td>\n",
       "      <td>6</td>\n",
       "      <td>8</td>\n",
       "      <td>1976</td>\n",
       "      <td>1976</td>\n",
       "      <td>978</td>\n",
       "      <td>0</td>\n",
       "      <td>284</td>\n",
       "      <td>1262</td>\n",
       "      <td>...</td>\n",
       "      <td>298</td>\n",
       "      <td>0</td>\n",
       "      <td>0</td>\n",
       "      <td>0</td>\n",
       "      <td>0</td>\n",
       "      <td>0</td>\n",
       "      <td>0</td>\n",
       "      <td>5</td>\n",
       "      <td>2007</td>\n",
       "      <td>181500</td>\n",
       "    </tr>\n",
       "    <tr>\n",
       "      <th>2</th>\n",
       "      <td>60</td>\n",
       "      <td>11250</td>\n",
       "      <td>7</td>\n",
       "      <td>5</td>\n",
       "      <td>2001</td>\n",
       "      <td>2002</td>\n",
       "      <td>486</td>\n",
       "      <td>0</td>\n",
       "      <td>434</td>\n",
       "      <td>920</td>\n",
       "      <td>...</td>\n",
       "      <td>0</td>\n",
       "      <td>42</td>\n",
       "      <td>0</td>\n",
       "      <td>0</td>\n",
       "      <td>0</td>\n",
       "      <td>0</td>\n",
       "      <td>0</td>\n",
       "      <td>9</td>\n",
       "      <td>2008</td>\n",
       "      <td>223500</td>\n",
       "    </tr>\n",
       "    <tr>\n",
       "      <th>3</th>\n",
       "      <td>70</td>\n",
       "      <td>9550</td>\n",
       "      <td>7</td>\n",
       "      <td>5</td>\n",
       "      <td>1915</td>\n",
       "      <td>1970</td>\n",
       "      <td>216</td>\n",
       "      <td>0</td>\n",
       "      <td>540</td>\n",
       "      <td>756</td>\n",
       "      <td>...</td>\n",
       "      <td>0</td>\n",
       "      <td>35</td>\n",
       "      <td>272</td>\n",
       "      <td>0</td>\n",
       "      <td>0</td>\n",
       "      <td>0</td>\n",
       "      <td>0</td>\n",
       "      <td>2</td>\n",
       "      <td>2006</td>\n",
       "      <td>140000</td>\n",
       "    </tr>\n",
       "    <tr>\n",
       "      <th>4</th>\n",
       "      <td>60</td>\n",
       "      <td>14260</td>\n",
       "      <td>8</td>\n",
       "      <td>5</td>\n",
       "      <td>2000</td>\n",
       "      <td>2000</td>\n",
       "      <td>655</td>\n",
       "      <td>0</td>\n",
       "      <td>490</td>\n",
       "      <td>1145</td>\n",
       "      <td>...</td>\n",
       "      <td>192</td>\n",
       "      <td>84</td>\n",
       "      <td>0</td>\n",
       "      <td>0</td>\n",
       "      <td>0</td>\n",
       "      <td>0</td>\n",
       "      <td>0</td>\n",
       "      <td>12</td>\n",
       "      <td>2008</td>\n",
       "      <td>250000</td>\n",
       "    </tr>\n",
       "  </tbody>\n",
       "</table>\n",
       "<p>5 rows × 34 columns</p>\n",
       "</div>"
      ],
      "text/plain": [
       "   MSSubClass  LotArea  OverallQual  OverallCond  YearBuilt  YearRemodAdd  \\\n",
       "0          60     8450            7            5       2003          2003   \n",
       "1          20     9600            6            8       1976          1976   \n",
       "2          60    11250            7            5       2001          2002   \n",
       "3          70     9550            7            5       1915          1970   \n",
       "4          60    14260            8            5       2000          2000   \n",
       "\n",
       "   BsmtFinSF1  BsmtFinSF2  BsmtUnfSF  TotalBsmtSF  ...  WoodDeckSF  \\\n",
       "0         706           0        150          856  ...           0   \n",
       "1         978           0        284         1262  ...         298   \n",
       "2         486           0        434          920  ...           0   \n",
       "3         216           0        540          756  ...           0   \n",
       "4         655           0        490         1145  ...         192   \n",
       "\n",
       "   OpenPorchSF  EnclosedPorch  3SsnPorch  ScreenPorch  PoolArea  MiscVal  \\\n",
       "0           61              0          0            0         0        0   \n",
       "1            0              0          0            0         0        0   \n",
       "2           42              0          0            0         0        0   \n",
       "3           35            272          0            0         0        0   \n",
       "4           84              0          0            0         0        0   \n",
       "\n",
       "   MoSold  YrSold  SalePrice  \n",
       "0       2    2008     208500  \n",
       "1       5    2007     181500  \n",
       "2       9    2008     223500  \n",
       "3       2    2006     140000  \n",
       "4      12    2008     250000  \n",
       "\n",
       "[5 rows x 34 columns]"
      ]
     },
     "execution_count": 10,
     "metadata": {},
     "output_type": "execute_result"
    }
   ],
   "source": [
    "clean_train_df.head()"
   ]
  },
  {
   "cell_type": "code",
   "execution_count": 11,
   "id": "dce3e892",
   "metadata": {
    "execution": {
     "iopub.execute_input": "2022-11-28T15:12:48.651244Z",
     "iopub.status.busy": "2022-11-28T15:12:48.650828Z",
     "iopub.status.idle": "2022-11-28T15:12:48.661074Z",
     "shell.execute_reply": "2022-11-28T15:12:48.659864Z"
    },
    "papermill": {
     "duration": 0.025396,
     "end_time": "2022-11-28T15:12:48.663908",
     "exception": false,
     "start_time": "2022-11-28T15:12:48.638512",
     "status": "completed"
    },
    "tags": []
   },
   "outputs": [
    {
     "name": "stdout",
     "output_type": "stream",
     "text": [
      "First 5 Y train 0    208500\n",
      "1    181500\n",
      "2    223500\n",
      "3    140000\n",
      "4    250000\n",
      "Name: SalePrice, dtype: int64\n"
     ]
    }
   ],
   "source": [
    "X_val =clean_train_df.drop(['SalePrice'],axis=1)\n",
    "X_train,Y_train = X_val.values.tolist(),clean_train_df[\"SalePrice\"]\n",
    "print(\"First 5 Y train\",Y_train.head())"
   ]
  },
  {
   "cell_type": "code",
   "execution_count": 12,
   "id": "3addc7bc",
   "metadata": {
    "execution": {
     "iopub.execute_input": "2022-11-28T15:12:48.687230Z",
     "iopub.status.busy": "2022-11-28T15:12:48.686765Z",
     "iopub.status.idle": "2022-11-28T15:12:48.708348Z",
     "shell.execute_reply": "2022-11-28T15:12:48.706684Z"
    },
    "papermill": {
     "duration": 0.036361,
     "end_time": "2022-11-28T15:12:48.711025",
     "exception": false,
     "start_time": "2022-11-28T15:12:48.674664",
     "status": "completed"
    },
    "tags": []
   },
   "outputs": [
    {
     "name": "stdout",
     "output_type": "stream",
     "text": [
      "First 5 X train [[60, 8450, 7, 5, 2003, 2003, 706, 0, 150, 856, 856, 854, 0, 1710, 1, 0, 2, 1, 3, 1, 8, 0, 2, 548, 0, 61, 0, 0, 0, 0, 0, 2, 2008], [20, 9600, 6, 8, 1976, 1976, 978, 0, 284, 1262, 1262, 0, 0, 1262, 0, 1, 2, 0, 3, 1, 6, 1, 2, 460, 298, 0, 0, 0, 0, 0, 0, 5, 2007], [60, 11250, 7, 5, 2001, 2002, 486, 0, 434, 920, 920, 866, 0, 1786, 1, 0, 2, 1, 3, 1, 6, 1, 2, 608, 0, 42, 0, 0, 0, 0, 0, 9, 2008], [70, 9550, 7, 5, 1915, 1970, 216, 0, 540, 756, 961, 756, 0, 1717, 1, 0, 1, 0, 3, 1, 7, 1, 3, 642, 0, 35, 272, 0, 0, 0, 0, 2, 2006], [60, 14260, 8, 5, 2000, 2000, 655, 0, 490, 1145, 1145, 1053, 0, 2198, 1, 0, 2, 1, 4, 1, 9, 1, 3, 836, 192, 84, 0, 0, 0, 0, 0, 12, 2008], [50, 14115, 5, 5, 1993, 1995, 732, 0, 64, 796, 796, 566, 0, 1362, 1, 0, 1, 1, 1, 1, 5, 0, 2, 480, 40, 30, 0, 320, 0, 0, 700, 10, 2009]]\n"
     ]
    },
    {
     "data": {
      "text/html": [
       "<div>\n",
       "<style scoped>\n",
       "    .dataframe tbody tr th:only-of-type {\n",
       "        vertical-align: middle;\n",
       "    }\n",
       "\n",
       "    .dataframe tbody tr th {\n",
       "        vertical-align: top;\n",
       "    }\n",
       "\n",
       "    .dataframe thead th {\n",
       "        text-align: right;\n",
       "    }\n",
       "</style>\n",
       "<table border=\"1\" class=\"dataframe\">\n",
       "  <thead>\n",
       "    <tr style=\"text-align: right;\">\n",
       "      <th></th>\n",
       "      <th>MSSubClass</th>\n",
       "      <th>LotArea</th>\n",
       "      <th>OverallQual</th>\n",
       "      <th>OverallCond</th>\n",
       "      <th>YearBuilt</th>\n",
       "      <th>YearRemodAdd</th>\n",
       "      <th>BsmtFinSF1</th>\n",
       "      <th>BsmtFinSF2</th>\n",
       "      <th>BsmtUnfSF</th>\n",
       "      <th>TotalBsmtSF</th>\n",
       "      <th>...</th>\n",
       "      <th>GarageArea</th>\n",
       "      <th>WoodDeckSF</th>\n",
       "      <th>OpenPorchSF</th>\n",
       "      <th>EnclosedPorch</th>\n",
       "      <th>3SsnPorch</th>\n",
       "      <th>ScreenPorch</th>\n",
       "      <th>PoolArea</th>\n",
       "      <th>MiscVal</th>\n",
       "      <th>MoSold</th>\n",
       "      <th>YrSold</th>\n",
       "    </tr>\n",
       "  </thead>\n",
       "  <tbody>\n",
       "    <tr>\n",
       "      <th>0</th>\n",
       "      <td>60</td>\n",
       "      <td>8450</td>\n",
       "      <td>7</td>\n",
       "      <td>5</td>\n",
       "      <td>2003</td>\n",
       "      <td>2003</td>\n",
       "      <td>706</td>\n",
       "      <td>0</td>\n",
       "      <td>150</td>\n",
       "      <td>856</td>\n",
       "      <td>...</td>\n",
       "      <td>548</td>\n",
       "      <td>0</td>\n",
       "      <td>61</td>\n",
       "      <td>0</td>\n",
       "      <td>0</td>\n",
       "      <td>0</td>\n",
       "      <td>0</td>\n",
       "      <td>0</td>\n",
       "      <td>2</td>\n",
       "      <td>2008</td>\n",
       "    </tr>\n",
       "    <tr>\n",
       "      <th>1</th>\n",
       "      <td>20</td>\n",
       "      <td>9600</td>\n",
       "      <td>6</td>\n",
       "      <td>8</td>\n",
       "      <td>1976</td>\n",
       "      <td>1976</td>\n",
       "      <td>978</td>\n",
       "      <td>0</td>\n",
       "      <td>284</td>\n",
       "      <td>1262</td>\n",
       "      <td>...</td>\n",
       "      <td>460</td>\n",
       "      <td>298</td>\n",
       "      <td>0</td>\n",
       "      <td>0</td>\n",
       "      <td>0</td>\n",
       "      <td>0</td>\n",
       "      <td>0</td>\n",
       "      <td>0</td>\n",
       "      <td>5</td>\n",
       "      <td>2007</td>\n",
       "    </tr>\n",
       "    <tr>\n",
       "      <th>2</th>\n",
       "      <td>60</td>\n",
       "      <td>11250</td>\n",
       "      <td>7</td>\n",
       "      <td>5</td>\n",
       "      <td>2001</td>\n",
       "      <td>2002</td>\n",
       "      <td>486</td>\n",
       "      <td>0</td>\n",
       "      <td>434</td>\n",
       "      <td>920</td>\n",
       "      <td>...</td>\n",
       "      <td>608</td>\n",
       "      <td>0</td>\n",
       "      <td>42</td>\n",
       "      <td>0</td>\n",
       "      <td>0</td>\n",
       "      <td>0</td>\n",
       "      <td>0</td>\n",
       "      <td>0</td>\n",
       "      <td>9</td>\n",
       "      <td>2008</td>\n",
       "    </tr>\n",
       "    <tr>\n",
       "      <th>3</th>\n",
       "      <td>70</td>\n",
       "      <td>9550</td>\n",
       "      <td>7</td>\n",
       "      <td>5</td>\n",
       "      <td>1915</td>\n",
       "      <td>1970</td>\n",
       "      <td>216</td>\n",
       "      <td>0</td>\n",
       "      <td>540</td>\n",
       "      <td>756</td>\n",
       "      <td>...</td>\n",
       "      <td>642</td>\n",
       "      <td>0</td>\n",
       "      <td>35</td>\n",
       "      <td>272</td>\n",
       "      <td>0</td>\n",
       "      <td>0</td>\n",
       "      <td>0</td>\n",
       "      <td>0</td>\n",
       "      <td>2</td>\n",
       "      <td>2006</td>\n",
       "    </tr>\n",
       "    <tr>\n",
       "      <th>4</th>\n",
       "      <td>60</td>\n",
       "      <td>14260</td>\n",
       "      <td>8</td>\n",
       "      <td>5</td>\n",
       "      <td>2000</td>\n",
       "      <td>2000</td>\n",
       "      <td>655</td>\n",
       "      <td>0</td>\n",
       "      <td>490</td>\n",
       "      <td>1145</td>\n",
       "      <td>...</td>\n",
       "      <td>836</td>\n",
       "      <td>192</td>\n",
       "      <td>84</td>\n",
       "      <td>0</td>\n",
       "      <td>0</td>\n",
       "      <td>0</td>\n",
       "      <td>0</td>\n",
       "      <td>0</td>\n",
       "      <td>12</td>\n",
       "      <td>2008</td>\n",
       "    </tr>\n",
       "  </tbody>\n",
       "</table>\n",
       "<p>5 rows × 33 columns</p>\n",
       "</div>"
      ],
      "text/plain": [
       "   MSSubClass  LotArea  OverallQual  OverallCond  YearBuilt  YearRemodAdd  \\\n",
       "0          60     8450            7            5       2003          2003   \n",
       "1          20     9600            6            8       1976          1976   \n",
       "2          60    11250            7            5       2001          2002   \n",
       "3          70     9550            7            5       1915          1970   \n",
       "4          60    14260            8            5       2000          2000   \n",
       "\n",
       "   BsmtFinSF1  BsmtFinSF2  BsmtUnfSF  TotalBsmtSF  ...  GarageArea  \\\n",
       "0         706           0        150          856  ...         548   \n",
       "1         978           0        284         1262  ...         460   \n",
       "2         486           0        434          920  ...         608   \n",
       "3         216           0        540          756  ...         642   \n",
       "4         655           0        490         1145  ...         836   \n",
       "\n",
       "   WoodDeckSF  OpenPorchSF  EnclosedPorch  3SsnPorch  ScreenPorch  PoolArea  \\\n",
       "0           0           61              0          0            0         0   \n",
       "1         298            0              0          0            0         0   \n",
       "2           0           42              0          0            0         0   \n",
       "3           0           35            272          0            0         0   \n",
       "4         192           84              0          0            0         0   \n",
       "\n",
       "   MiscVal  MoSold  YrSold  \n",
       "0        0       2    2008  \n",
       "1        0       5    2007  \n",
       "2        0       9    2008  \n",
       "3        0       2    2006  \n",
       "4        0      12    2008  \n",
       "\n",
       "[5 rows x 33 columns]"
      ]
     },
     "execution_count": 12,
     "metadata": {},
     "output_type": "execute_result"
    }
   ],
   "source": [
    "print(\"First 5 X train\",X_train[:6])\n",
    "X_val.head()"
   ]
  },
  {
   "cell_type": "markdown",
   "id": "a661ec71",
   "metadata": {
    "papermill": {
     "duration": 0.010513,
     "end_time": "2022-11-28T15:12:48.732581",
     "exception": false,
     "start_time": "2022-11-28T15:12:48.722068",
     "status": "completed"
    },
    "tags": []
   },
   "source": [
    "# Feature Normalization\n",
    "In this model I am implementing z-score normalization, adjust your input values as shown in this formula:\n",
    "$$x^{(i)}_j = \\dfrac{x^{(i)}_j - \\mu_j}{\\sigma_j} \\tag{1}$$ "
   ]
  },
  {
   "cell_type": "code",
   "execution_count": 13,
   "id": "fee829cf",
   "metadata": {
    "execution": {
     "iopub.execute_input": "2022-11-28T15:12:48.756746Z",
     "iopub.status.busy": "2022-11-28T15:12:48.756316Z",
     "iopub.status.idle": "2022-11-28T15:12:48.762407Z",
     "shell.execute_reply": "2022-11-28T15:12:48.761223Z"
    },
    "papermill": {
     "duration": 0.020892,
     "end_time": "2022-11-28T15:12:48.764825",
     "exception": false,
     "start_time": "2022-11-28T15:12:48.743933",
     "status": "completed"
    },
    "tags": []
   },
   "outputs": [],
   "source": [
    "def zscore_normalize_features(X):\n",
    "    mu     = np.mean(X, axis=0)\n",
    "    sigma  = np.std(X, axis=0)\n",
    "    X_norm = (X - mu) / sigma  \n",
    "    return (X_norm, mu, sigma)"
   ]
  },
  {
   "cell_type": "code",
   "execution_count": 14,
   "id": "2f64e896",
   "metadata": {
    "execution": {
     "iopub.execute_input": "2022-11-28T15:12:48.788801Z",
     "iopub.status.busy": "2022-11-28T15:12:48.788025Z",
     "iopub.status.idle": "2022-11-28T15:12:48.826223Z",
     "shell.execute_reply": "2022-11-28T15:12:48.824824Z"
    },
    "papermill": {
     "duration": 0.054689,
     "end_time": "2022-11-28T15:12:48.830465",
     "exception": false,
     "start_time": "2022-11-28T15:12:48.775776",
     "status": "completed"
    },
    "tags": []
   },
   "outputs": [
    {
     "name": "stdout",
     "output_type": "stream",
     "text": [
      "X_mu = [5.68972603e+01 1.05168281e+04 6.09931507e+00 5.57534247e+00\n",
      " 1.97126781e+03 1.98486575e+03 4.43639726e+02 4.65493151e+01\n",
      " 5.67240411e+02 1.05742945e+03 1.16262671e+03 3.46992466e+02\n",
      " 5.84452055e+00 1.51546370e+03 4.25342466e-01 5.75342466e-02\n",
      " 1.56506849e+00 3.82876712e-01 2.86643836e+00 1.04657534e+00\n",
      " 6.51780822e+00 6.13013699e-01 1.76712329e+00 4.72980137e+02\n",
      " 9.42445205e+01 4.66602740e+01 2.19541096e+01 3.40958904e+00\n",
      " 1.50609589e+01 2.75890411e+00 4.34890411e+01 6.32191781e+00\n",
      " 2.00781575e+03], \n",
      "X_sigma = [4.22860820e+01 9.97784611e+03 1.38252284e+00 1.11241818e+00\n",
      " 3.01925588e+01 2.06383353e+01 4.55941866e+02 1.61264017e+02\n",
      " 4.41715605e+02 4.38555057e+02 3.86455322e+02 4.36378914e+02\n",
      " 4.86064268e+01 5.25300394e+02 5.18732867e-01 2.38670868e-01\n",
      " 5.50727099e-01 5.02713131e-01 8.15498620e-01 2.20262727e-01\n",
      " 1.62483655e+00 6.44445572e-01 7.47059036e-01 2.13731608e+02\n",
      " 1.25295863e+02 6.62333334e+01 6.10982138e+01 2.93072887e+01\n",
      " 5.57383170e+01 4.01635452e+01 4.95953090e+02 2.70270015e+00\n",
      " 1.32764022e+00]\n",
      "Peak to Peak range by column in Raw        X:[   170 213945      9      8    138     60   5644   1474   2336   6110\n",
      "   4358   2065    572   5308      3      2      3      2      8      3\n",
      "     12      3      4   1418    857    547    552    508    480    738\n",
      "  15500     11      4]\n",
      "Peak to Peak range by column in Normalized X:[ 4.02023531 21.44200239  6.50983822  7.19154017  4.57066262  2.90721123\n",
      " 12.37877111  9.14029073  5.28847062 13.93211616 11.27685336  4.73212599\n",
      " 11.76799113 10.1046945   5.78332354  8.37974077  5.44734407  3.9784121\n",
      "  9.80994915 13.62009832  7.38535822  4.65516427  5.35432918  6.63448899\n",
      "  6.83981084  8.25868142  9.034634   17.33357207  8.61167014 18.37487193\n",
      " 31.25295579  4.07000384  3.01286444]\n"
     ]
    }
   ],
   "source": [
    "X_norm, X_mu, X_sigma = zscore_normalize_features(X_train)\n",
    "print(f\"X_mu = {X_mu}, \\nX_sigma = {X_sigma}\")\n",
    "print(f\"Peak to Peak range by column in Raw        X:{np.ptp(X_train,axis=0)}\")   \n",
    "print(f\"Peak to Peak range by column in Normalized X:{np.ptp(X_norm,axis=0)}\")"
   ]
  },
  {
   "cell_type": "code",
   "execution_count": 15,
   "id": "e8333555",
   "metadata": {
    "execution": {
     "iopub.execute_input": "2022-11-28T15:12:48.854061Z",
     "iopub.status.busy": "2022-11-28T15:12:48.853617Z",
     "iopub.status.idle": "2022-11-28T15:12:48.861102Z",
     "shell.execute_reply": "2022-11-28T15:12:48.859770Z"
    },
    "papermill": {
     "duration": 0.022408,
     "end_time": "2022-11-28T15:12:48.863791",
     "exception": false,
     "start_time": "2022-11-28T15:12:48.841383",
     "status": "completed"
    },
    "tags": []
   },
   "outputs": [
    {
     "name": "stdout",
     "output_type": "stream",
     "text": [
      "(1460, 33)\n",
      "[-0.87256276 -0.09188637 -0.07183611  2.17962776  0.15673371 -0.42957697\n",
      "  1.17199212 -0.28865283 -0.64122799  0.46646492  0.25714043 -0.79516323\n",
      " -0.12024172 -0.48251191 -0.81996437  3.94880935  0.78974052 -0.76162067\n",
      "  0.16377912 -0.21145358 -0.31868327  0.60049493  0.31172464 -0.06073101\n",
      "  1.62619479 -0.70448325 -0.3593249  -0.11633929 -0.27020835 -0.06869175\n",
      " -0.08768781 -0.48911005 -0.61443862]\n"
     ]
    }
   ],
   "source": [
    "print(X_norm.shape)\n",
    "print(X_norm[1])"
   ]
  },
  {
   "cell_type": "code",
   "execution_count": 16,
   "id": "d9d0afd4",
   "metadata": {
    "execution": {
     "iopub.execute_input": "2022-11-28T15:12:48.887518Z",
     "iopub.status.busy": "2022-11-28T15:12:48.887115Z",
     "iopub.status.idle": "2022-11-28T15:12:48.894712Z",
     "shell.execute_reply": "2022-11-28T15:12:48.893297Z"
    },
    "papermill": {
     "duration": 0.022708,
     "end_time": "2022-11-28T15:12:48.897656",
     "exception": false,
     "start_time": "2022-11-28T15:12:48.874948",
     "status": "completed"
    },
    "tags": []
   },
   "outputs": [
    {
     "name": "stdout",
     "output_type": "stream",
     "text": [
      "[[ 0.07337496 -0.20714171  0.65147924 ... -0.08768781 -1.5991111\n",
      "   0.13877749]\n",
      " [-0.87256276 -0.09188637 -0.07183611 ... -0.08768781 -0.48911005\n",
      "  -0.61443862]\n",
      " [ 0.07337496  0.07347998  0.65147924 ... -0.08768781  0.99089135\n",
      "   0.13877749]\n",
      " ...\n",
      " [ 0.30985939 -0.14781027  0.65147924 ...  4.95311151 -0.48911005\n",
      "   1.64520971]\n",
      " [-0.87256276 -0.08016039 -0.79515147 ... -0.08768781 -0.8591104\n",
      "   1.64520971]\n",
      " [-0.87256276 -0.05811155 -0.79515147 ... -0.08768781 -0.1191097\n",
      "   0.13877749]]\n"
     ]
    }
   ],
   "source": [
    "print(X_norm)"
   ]
  },
  {
   "cell_type": "code",
   "execution_count": 17,
   "id": "e178dd02",
   "metadata": {
    "execution": {
     "iopub.execute_input": "2022-11-28T15:12:48.921819Z",
     "iopub.status.busy": "2022-11-28T15:12:48.921420Z",
     "iopub.status.idle": "2022-11-28T15:12:48.926829Z",
     "shell.execute_reply": "2022-11-28T15:12:48.925558Z"
    },
    "papermill": {
     "duration": 0.020573,
     "end_time": "2022-11-28T15:12:48.929324",
     "exception": false,
     "start_time": "2022-11-28T15:12:48.908751",
     "status": "completed"
    },
    "tags": []
   },
   "outputs": [],
   "source": [
    "def predict(x, w, b): \n",
    "    p = np.dot(x, w) + b             \n",
    "    return p\n",
    "#    return p    "
   ]
  },
  {
   "cell_type": "markdown",
   "id": "5f5ebc69",
   "metadata": {
    "papermill": {
     "duration": 0.010765,
     "end_time": "2022-11-28T15:12:48.951231",
     "exception": false,
     "start_time": "2022-11-28T15:12:48.940466",
     "status": "completed"
    },
    "tags": []
   },
   "source": [
    "# Compute Cost with Multiple Variables\n",
    "$$J(\\mathbf{w},b) = \\frac{1}{2m} \\sum\\limits_{i = 0}^{m-1} (f_{\\mathbf{w},b}(\\mathbf{x}^{(i)}) - y^{(i)})^2 \\tag{2}$$ \n",
    "where:\n",
    "$$ f_{\\mathbf{w},b}(\\mathbf{x}^{(i)}) = \\mathbf{w} \\cdot \\mathbf{x}^{(i)} + b  \\tag{3} $$ "
   ]
  },
  {
   "cell_type": "code",
   "execution_count": 18,
   "id": "2a99f7ed",
   "metadata": {
    "execution": {
     "iopub.execute_input": "2022-11-28T15:12:48.975494Z",
     "iopub.status.busy": "2022-11-28T15:12:48.975076Z",
     "iopub.status.idle": "2022-11-28T15:12:48.983278Z",
     "shell.execute_reply": "2022-11-28T15:12:48.980749Z"
    },
    "papermill": {
     "duration": 0.023908,
     "end_time": "2022-11-28T15:12:48.986449",
     "exception": false,
     "start_time": "2022-11-28T15:12:48.962541",
     "status": "completed"
    },
    "tags": []
   },
   "outputs": [],
   "source": [
    "def compute_cost(X, y, w, b):\n",
    "    m = X.shape[0]\n",
    "    cost = 0.0\n",
    "    for i in range(m):\n",
    "        f_wb_i = np.dot(X[i],w) + b\n",
    "        cost = cost + (f_wb_i - y[i])**2\n",
    "    cost = cost/(2 * m)\n",
    "    return cost"
   ]
  },
  {
   "cell_type": "markdown",
   "id": "3f9a9267",
   "metadata": {
    "papermill": {
     "duration": 0.01581,
     "end_time": "2022-11-28T15:12:49.016916",
     "exception": false,
     "start_time": "2022-11-28T15:12:49.001106",
     "status": "completed"
    },
    "tags": []
   },
   "source": [
    "# Compute Gradient Descent\n",
    "\n",
    "$$\n",
    "\\begin{align}\n",
    "\\frac{\\partial J(\\mathbf{w},b)}{\\partial w_j}  &= \\frac{1}{m} \\sum\\limits_{i = 0}^{m-1} (f_{\\mathbf{w},b}(\\mathbf{x}^{(i)}) - y^{(i)})x_{j}^{(i)} \\tag{4}  \\\\\n",
    "\\frac{\\partial J(\\mathbf{w},b)}{\\partial b}  &= \\frac{1}{m} \\sum\\limits_{i = 0}^{m-1} (f_{\\mathbf{w},b}(\\mathbf{x}^{(i)}) - y^{(i)}) \\tag{5}\n",
    "\\end{align}\n",
    "$$"
   ]
  },
  {
   "cell_type": "code",
   "execution_count": 19,
   "id": "8d6d8eab",
   "metadata": {
    "execution": {
     "iopub.execute_input": "2022-11-28T15:12:49.047316Z",
     "iopub.status.busy": "2022-11-28T15:12:49.046537Z",
     "iopub.status.idle": "2022-11-28T15:12:49.056555Z",
     "shell.execute_reply": "2022-11-28T15:12:49.054656Z"
    },
    "papermill": {
     "duration": 0.026257,
     "end_time": "2022-11-28T15:12:49.058914",
     "exception": false,
     "start_time": "2022-11-28T15:12:49.032657",
     "status": "completed"
    },
    "tags": []
   },
   "outputs": [],
   "source": [
    "def compute_gradient(X, y, w, b): \n",
    "    m,n = X.shape           #(number of examples, number of features)\n",
    "    dj_dw = np.zeros((n,))\n",
    "    dj_db = 0.\n",
    "\n",
    "    for i in range(m):                             \n",
    "        err = (np.dot(X[i], w) + b) - y[i]   \n",
    "        for j in range(n):                         \n",
    "            dj_dw[j] = dj_dw[j] + err * X[i, j]    \n",
    "        dj_db = dj_db + err                        \n",
    "    dj_dw = dj_dw / m                                \n",
    "    dj_db = dj_db / m                                \n",
    "        \n",
    "    return dj_db, dj_dw"
   ]
  },
  {
   "cell_type": "markdown",
   "id": "c70dbd2c",
   "metadata": {
    "papermill": {
     "duration": 0.011917,
     "end_time": "2022-11-28T15:12:49.081950",
     "exception": false,
     "start_time": "2022-11-28T15:12:49.070033",
     "status": "completed"
    },
    "tags": []
   },
   "source": [
    "# Gradient Descent\n",
    "$$\\begin{align*} \\text{repeat}&\\text{ until convergence:} \\; \\lbrace \\newline\\;\n",
    "& w_j = w_j -  \\alpha \\frac{\\partial J(\\mathbf{w},b)}{\\partial w_j} \\tag{6}  \\; & \\text{for j = 0..n-1}\\newline\n",
    "&b\\ \\ = b -  \\alpha \\frac{\\partial J(\\mathbf{w},b)}{\\partial b}  \\newline \\rbrace\n",
    "\\end{align*}$$"
   ]
  },
  {
   "cell_type": "code",
   "execution_count": 20,
   "id": "bbcd688c",
   "metadata": {
    "execution": {
     "iopub.execute_input": "2022-11-28T15:12:49.106952Z",
     "iopub.status.busy": "2022-11-28T15:12:49.106532Z",
     "iopub.status.idle": "2022-11-28T15:12:49.114881Z",
     "shell.execute_reply": "2022-11-28T15:12:49.113817Z"
    },
    "papermill": {
     "duration": 0.023918,
     "end_time": "2022-11-28T15:12:49.117375",
     "exception": false,
     "start_time": "2022-11-28T15:12:49.093457",
     "status": "completed"
    },
    "tags": []
   },
   "outputs": [],
   "source": [
    "def gradient_descent(X, y, w_in, b_in, cost_function, gradient_function, alpha, num_iters): \n",
    "    # An array to store cost J and w's at each iteration primarily for graphing later\n",
    "    J_history = []\n",
    "    w = copy.deepcopy(w_in)  #avoid modifying global w within function\n",
    "    b = b_in\n",
    "    \n",
    "    for i in range(num_iters):\n",
    "\n",
    "        # Calculate the gradient and update the parameters\n",
    "        dj_db,dj_dw = gradient_function(X, y, w, b)   ##None\n",
    "\n",
    "        # Update Parameters using w, b, alpha and gradient\n",
    "        w = w - alpha * dj_dw               ##None\n",
    "        b = b - alpha * dj_db               ##None\n",
    "      \n",
    "        # Save cost J at each iteration\n",
    "        if i<100000:      # prevent resource exhaustion \n",
    "            J_history.append( cost_function(X, y, w, b))\n",
    "\n",
    "        # Print cost every at intervals 10 times or as many iterations if < 10\n",
    "        if i% math.ceil(num_iters / 10) == 0:\n",
    "            print(f\"Iteration {i:4d}: Cost {J_history[-1]:8.2f}   \")\n",
    "        \n",
    "    return w, b, J_history #return final w,b and J history for graphing"
   ]
  },
  {
   "cell_type": "code",
   "execution_count": 21,
   "id": "8dfc3280",
   "metadata": {
    "execution": {
     "iopub.execute_input": "2022-11-28T15:12:49.143110Z",
     "iopub.status.busy": "2022-11-28T15:12:49.142453Z",
     "iopub.status.idle": "2022-11-28T15:19:15.944174Z",
     "shell.execute_reply": "2022-11-28T15:19:15.943109Z"
    },
    "papermill": {
     "duration": 386.827957,
     "end_time": "2022-11-28T15:19:15.957312",
     "exception": false,
     "start_time": "2022-11-28T15:12:49.129355",
     "status": "completed"
    },
    "tags": []
   },
   "outputs": [
    {
     "name": "stdout",
     "output_type": "stream",
     "text": [
      "Iteration    0: Cost 14329373360.28   \n",
      "Iteration 1000: Cost 602599238.92   \n",
      "Iteration 2000: Cost 602599238.91   \n",
      "Iteration 3000: Cost 602599238.91   \n",
      "Iteration 4000: Cost 602599238.91   \n",
      "Iteration 5000: Cost 602599238.91   \n",
      "Iteration 6000: Cost 602599238.91   \n",
      "Iteration 7000: Cost 602599238.91   \n",
      "Iteration 8000: Cost 602599238.91   \n",
      "Iteration 9000: Cost 602599238.91   \n",
      "b,w found by gradient descent: 180921.20,[-6878.79757652  3953.50296901 24754.16428757  4915.54764563\n",
      " 10466.35628018  2828.9775948   4925.84378815  -606.06108982\n",
      "  -106.98219657  4790.33867026  8757.62869586  9936.386373\n",
      "  -105.7962456  14687.42410382  4427.33005978   588.84889326\n",
      "  1970.22016718  -667.03076183 -8587.83601071 -2847.5058447\n",
      "  8339.17798023  2318.00312933  7944.03895733   298.41478439\n",
      "  3304.38908752  -372.19142197   532.89923573   550.13837237\n",
      "  3226.46773771 -1711.51674379  -442.01695378  -311.7527348\n",
      " -1005.87852816] \n"
     ]
    }
   ],
   "source": [
    "# initialize parameters\n",
    "np.random.seed(1)\n",
    "initial_w = np.random.rand(X_norm.shape[1])\n",
    "initial_b = 0.\n",
    "# some gradient descent settings\n",
    "iterations = 10000\n",
    "alpha = 0.1\n",
    "# run gradient descent \n",
    "w_final, b_final, J_hist = gradient_descent(X_norm, Y_train, initial_w, initial_b,\n",
    "                                                    compute_cost, compute_gradient, \n",
    "                                                    alpha, iterations)\n",
    "print(f\"b,w found by gradient descent: {b_final:0.2f},{w_final} \")\n"
   ]
  },
  {
   "cell_type": "code",
   "execution_count": 22,
   "id": "c67e1d13",
   "metadata": {
    "execution": {
     "iopub.execute_input": "2022-11-28T15:19:15.983177Z",
     "iopub.status.busy": "2022-11-28T15:19:15.982618Z",
     "iopub.status.idle": "2022-11-28T15:19:15.991861Z",
     "shell.execute_reply": "2022-11-28T15:19:15.990369Z"
    },
    "papermill": {
     "duration": 0.026368,
     "end_time": "2022-11-28T15:19:15.995736",
     "exception": false,
     "start_time": "2022-11-28T15:19:15.969368",
     "status": "completed"
    },
    "tags": []
   },
   "outputs": [
    {
     "name": "stdout",
     "output_type": "stream",
     "text": [
      "prediction: 227126.60, target value: 208500\n",
      "prediction: 198031.52, target value: 181500\n",
      "prediction: 222223.03, target value: 223500\n",
      "prediction: 195782.64, target value: 140000\n",
      "prediction: 286146.00, target value: 250000\n",
      "prediction: 179547.29, target value: 143000\n",
      "prediction: 274819.92, target value: 307000\n",
      "prediction: 248554.67, target value: 200000\n",
      "prediction: 193812.52, target value: 129900\n",
      "prediction: 92108.52, target value: 118000\n"
     ]
    }
   ],
   "source": [
    "m,_ = X_norm.shape\n",
    "for i in range(m):\n",
    "    if i < 10:\n",
    "        print(f\"prediction: {np.dot(X_norm[i], w_final) + b_final:0.2f}, target value: {Y_train[i]}\")"
   ]
  },
  {
   "cell_type": "markdown",
   "id": "63e799cd",
   "metadata": {
    "papermill": {
     "duration": 0.014082,
     "end_time": "2022-11-28T15:19:16.024121",
     "exception": false,
     "start_time": "2022-11-28T15:19:16.010039",
     "status": "completed"
    },
    "tags": []
   },
   "source": [
    "# Submission\n",
    "* repeat the pre processing step\n",
    "* repeat the normalization step\n",
    "* create prediction list\n",
    "* combine with Id column from test data"
   ]
  },
  {
   "cell_type": "code",
   "execution_count": 23,
   "id": "4c5d6e50",
   "metadata": {
    "execution": {
     "iopub.execute_input": "2022-11-28T15:19:16.063721Z",
     "iopub.status.busy": "2022-11-28T15:19:16.063343Z",
     "iopub.status.idle": "2022-11-28T15:19:16.076275Z",
     "shell.execute_reply": "2022-11-28T15:19:16.075019Z"
    },
    "papermill": {
     "duration": 0.038467,
     "end_time": "2022-11-28T15:19:16.078809",
     "exception": false,
     "start_time": "2022-11-28T15:19:16.040342",
     "status": "completed"
    },
    "tags": []
   },
   "outputs": [
    {
     "data": {
      "text/html": [
       "<div>\n",
       "<style scoped>\n",
       "    .dataframe tbody tr th:only-of-type {\n",
       "        vertical-align: middle;\n",
       "    }\n",
       "\n",
       "    .dataframe tbody tr th {\n",
       "        vertical-align: top;\n",
       "    }\n",
       "\n",
       "    .dataframe thead th {\n",
       "        text-align: right;\n",
       "    }\n",
       "</style>\n",
       "<table border=\"1\" class=\"dataframe\">\n",
       "  <thead>\n",
       "    <tr style=\"text-align: right;\">\n",
       "      <th></th>\n",
       "      <th>Id</th>\n",
       "    </tr>\n",
       "  </thead>\n",
       "  <tbody>\n",
       "    <tr>\n",
       "      <th>0</th>\n",
       "      <td>1461</td>\n",
       "    </tr>\n",
       "    <tr>\n",
       "      <th>1</th>\n",
       "      <td>1462</td>\n",
       "    </tr>\n",
       "    <tr>\n",
       "      <th>2</th>\n",
       "      <td>1463</td>\n",
       "    </tr>\n",
       "    <tr>\n",
       "      <th>3</th>\n",
       "      <td>1464</td>\n",
       "    </tr>\n",
       "    <tr>\n",
       "      <th>4</th>\n",
       "      <td>1465</td>\n",
       "    </tr>\n",
       "    <tr>\n",
       "      <th>...</th>\n",
       "      <td>...</td>\n",
       "    </tr>\n",
       "    <tr>\n",
       "      <th>1454</th>\n",
       "      <td>2915</td>\n",
       "    </tr>\n",
       "    <tr>\n",
       "      <th>1455</th>\n",
       "      <td>2916</td>\n",
       "    </tr>\n",
       "    <tr>\n",
       "      <th>1456</th>\n",
       "      <td>2917</td>\n",
       "    </tr>\n",
       "    <tr>\n",
       "      <th>1457</th>\n",
       "      <td>2918</td>\n",
       "    </tr>\n",
       "    <tr>\n",
       "      <th>1458</th>\n",
       "      <td>2919</td>\n",
       "    </tr>\n",
       "  </tbody>\n",
       "</table>\n",
       "<p>1459 rows × 1 columns</p>\n",
       "</div>"
      ],
      "text/plain": [
       "        Id\n",
       "0     1461\n",
       "1     1462\n",
       "2     1463\n",
       "3     1464\n",
       "4     1465\n",
       "...    ...\n",
       "1454  2915\n",
       "1455  2916\n",
       "1456  2917\n",
       "1457  2918\n",
       "1458  2919\n",
       "\n",
       "[1459 rows x 1 columns]"
      ]
     },
     "execution_count": 23,
     "metadata": {},
     "output_type": "execute_result"
    }
   ],
   "source": [
    "submission = test_df[[\"Id\"]]\n",
    "submission"
   ]
  },
  {
   "cell_type": "code",
   "execution_count": 24,
   "id": "808fded1",
   "metadata": {
    "execution": {
     "iopub.execute_input": "2022-11-28T15:19:16.110290Z",
     "iopub.status.busy": "2022-11-28T15:19:16.109546Z",
     "iopub.status.idle": "2022-11-28T15:19:16.138185Z",
     "shell.execute_reply": "2022-11-28T15:19:16.136515Z"
    },
    "papermill": {
     "duration": 0.045385,
     "end_time": "2022-11-28T15:19:16.140609",
     "exception": false,
     "start_time": "2022-11-28T15:19:16.095224",
     "status": "completed"
    },
    "tags": []
   },
   "outputs": [
    {
     "name": "stdout",
     "output_type": "stream",
     "text": [
      "['MSZoning', 'Street', 'Alley', 'LotShape', 'LandContour', 'Utilities', 'LotConfig', 'LandSlope', 'Neighborhood', 'Condition1', 'Condition2', 'BldgType', 'HouseStyle', 'RoofStyle', 'RoofMatl', 'Exterior1st', 'Exterior2nd', 'MasVnrType', 'ExterQual', 'ExterCond', 'Foundation', 'BsmtQual', 'BsmtCond', 'BsmtExposure', 'BsmtFinType1', 'BsmtFinType2', 'Heating', 'HeatingQC', 'CentralAir', 'Electrical', 'KitchenQual', 'Functional', 'FireplaceQu', 'GarageType', 'GarageFinish', 'GarageQual', 'GarageCond', 'PavedDrive', 'PoolQC', 'Fence', 'MiscFeature', 'SaleType', 'SaleCondition']\n"
     ]
    }
   ],
   "source": [
    "del_col = []\n",
    "for column in test_df.columns:\n",
    "    if (test_df[column].dtype == float or test_df[column].dtype == int):\n",
    "        pass\n",
    "    else:\n",
    "        del_col.append(column)\n",
    "    if test_df[column].isnull().all():\n",
    "        del_col.append(column)\n",
    "\n",
    "print(del_col)"
   ]
  },
  {
   "cell_type": "code",
   "execution_count": 25,
   "id": "87198979",
   "metadata": {
    "execution": {
     "iopub.execute_input": "2022-11-28T15:19:16.167736Z",
     "iopub.status.busy": "2022-11-28T15:19:16.167326Z",
     "iopub.status.idle": "2022-11-28T15:19:16.197860Z",
     "shell.execute_reply": "2022-11-28T15:19:16.196675Z"
    },
    "papermill": {
     "duration": 0.047612,
     "end_time": "2022-11-28T15:19:16.200793",
     "exception": false,
     "start_time": "2022-11-28T15:19:16.153181",
     "status": "completed"
    },
    "tags": []
   },
   "outputs": [
    {
     "name": "stdout",
     "output_type": "stream",
     "text": [
      "<class 'pandas.core.frame.DataFrame'>\n",
      "RangeIndex: 1459 entries, 0 to 1458\n",
      "Data columns (total 37 columns):\n",
      " #   Column         Non-Null Count  Dtype  \n",
      "---  ------         --------------  -----  \n",
      " 0   Id             1459 non-null   int64  \n",
      " 1   MSSubClass     1459 non-null   int64  \n",
      " 2   LotFrontage    1459 non-null   float64\n",
      " 3   LotArea        1459 non-null   int64  \n",
      " 4   OverallQual    1459 non-null   int64  \n",
      " 5   OverallCond    1459 non-null   int64  \n",
      " 6   YearBuilt      1459 non-null   int64  \n",
      " 7   YearRemodAdd   1459 non-null   int64  \n",
      " 8   MasVnrArea     1459 non-null   float64\n",
      " 9   BsmtFinSF1     1459 non-null   float64\n",
      " 10  BsmtFinSF2     1459 non-null   float64\n",
      " 11  BsmtUnfSF      1459 non-null   float64\n",
      " 12  TotalBsmtSF    1459 non-null   float64\n",
      " 13  1stFlrSF       1459 non-null   int64  \n",
      " 14  2ndFlrSF       1459 non-null   int64  \n",
      " 15  LowQualFinSF   1459 non-null   int64  \n",
      " 16  GrLivArea      1459 non-null   int64  \n",
      " 17  BsmtFullBath   1459 non-null   float64\n",
      " 18  BsmtHalfBath   1459 non-null   float64\n",
      " 19  FullBath       1459 non-null   int64  \n",
      " 20  HalfBath       1459 non-null   int64  \n",
      " 21  BedroomAbvGr   1459 non-null   int64  \n",
      " 22  KitchenAbvGr   1459 non-null   int64  \n",
      " 23  TotRmsAbvGrd   1459 non-null   int64  \n",
      " 24  Fireplaces     1459 non-null   int64  \n",
      " 25  GarageYrBlt    1459 non-null   float64\n",
      " 26  GarageCars     1459 non-null   float64\n",
      " 27  GarageArea     1459 non-null   float64\n",
      " 28  WoodDeckSF     1459 non-null   int64  \n",
      " 29  OpenPorchSF    1459 non-null   int64  \n",
      " 30  EnclosedPorch  1459 non-null   int64  \n",
      " 31  3SsnPorch      1459 non-null   int64  \n",
      " 32  ScreenPorch    1459 non-null   int64  \n",
      " 33  PoolArea       1459 non-null   int64  \n",
      " 34  MiscVal        1459 non-null   int64  \n",
      " 35  MoSold         1459 non-null   int64  \n",
      " 36  YrSold         1459 non-null   int64  \n",
      "dtypes: float64(11), int64(26)\n",
      "memory usage: 421.9 KB\n"
     ]
    }
   ],
   "source": [
    "test_df.fillna(method='bfill', inplace=True)\n",
    "clean_test_df = test_df.drop(del_col,axis=1)\n",
    "clean_test_df.notna()\n",
    "clean_test_df.info()"
   ]
  },
  {
   "cell_type": "code",
   "execution_count": 26,
   "id": "7426408a",
   "metadata": {
    "execution": {
     "iopub.execute_input": "2022-11-28T15:19:16.227312Z",
     "iopub.status.busy": "2022-11-28T15:19:16.226715Z",
     "iopub.status.idle": "2022-11-28T15:19:16.260617Z",
     "shell.execute_reply": "2022-11-28T15:19:16.258747Z"
    },
    "papermill": {
     "duration": 0.050157,
     "end_time": "2022-11-28T15:19:16.263435",
     "exception": false,
     "start_time": "2022-11-28T15:19:16.213278",
     "status": "completed"
    },
    "tags": []
   },
   "outputs": [
    {
     "name": "stdout",
     "output_type": "stream",
     "text": [
      "<class 'pandas.core.frame.DataFrame'>\n",
      "RangeIndex: 1459 entries, 0 to 1458\n",
      "Data columns (total 33 columns):\n",
      " #   Column         Non-Null Count  Dtype  \n",
      "---  ------         --------------  -----  \n",
      " 0   MSSubClass     1459 non-null   int64  \n",
      " 1   LotArea        1459 non-null   int64  \n",
      " 2   OverallQual    1459 non-null   int64  \n",
      " 3   OverallCond    1459 non-null   int64  \n",
      " 4   YearBuilt      1459 non-null   int64  \n",
      " 5   YearRemodAdd   1459 non-null   int64  \n",
      " 6   BsmtFinSF1     1459 non-null   float64\n",
      " 7   BsmtFinSF2     1459 non-null   float64\n",
      " 8   BsmtUnfSF      1459 non-null   float64\n",
      " 9   TotalBsmtSF    1459 non-null   float64\n",
      " 10  1stFlrSF       1459 non-null   int64  \n",
      " 11  2ndFlrSF       1459 non-null   int64  \n",
      " 12  LowQualFinSF   1459 non-null   int64  \n",
      " 13  GrLivArea      1459 non-null   int64  \n",
      " 14  BsmtFullBath   1459 non-null   float64\n",
      " 15  BsmtHalfBath   1459 non-null   float64\n",
      " 16  FullBath       1459 non-null   int64  \n",
      " 17  HalfBath       1459 non-null   int64  \n",
      " 18  BedroomAbvGr   1459 non-null   int64  \n",
      " 19  KitchenAbvGr   1459 non-null   int64  \n",
      " 20  TotRmsAbvGrd   1459 non-null   int64  \n",
      " 21  Fireplaces     1459 non-null   int64  \n",
      " 22  GarageCars     1459 non-null   float64\n",
      " 23  GarageArea     1459 non-null   float64\n",
      " 24  WoodDeckSF     1459 non-null   int64  \n",
      " 25  OpenPorchSF    1459 non-null   int64  \n",
      " 26  EnclosedPorch  1459 non-null   int64  \n",
      " 27  3SsnPorch      1459 non-null   int64  \n",
      " 28  ScreenPorch    1459 non-null   int64  \n",
      " 29  PoolArea       1459 non-null   int64  \n",
      " 30  MiscVal        1459 non-null   int64  \n",
      " 31  MoSold         1459 non-null   int64  \n",
      " 32  YrSold         1459 non-null   int64  \n",
      "dtypes: float64(8), int64(25)\n",
      "memory usage: 376.3 KB\n"
     ]
    },
    {
     "data": {
      "text/html": [
       "<div>\n",
       "<style scoped>\n",
       "    .dataframe tbody tr th:only-of-type {\n",
       "        vertical-align: middle;\n",
       "    }\n",
       "\n",
       "    .dataframe tbody tr th {\n",
       "        vertical-align: top;\n",
       "    }\n",
       "\n",
       "    .dataframe thead th {\n",
       "        text-align: right;\n",
       "    }\n",
       "</style>\n",
       "<table border=\"1\" class=\"dataframe\">\n",
       "  <thead>\n",
       "    <tr style=\"text-align: right;\">\n",
       "      <th></th>\n",
       "      <th>MSSubClass</th>\n",
       "      <th>LotArea</th>\n",
       "      <th>OverallQual</th>\n",
       "      <th>OverallCond</th>\n",
       "      <th>YearBuilt</th>\n",
       "      <th>YearRemodAdd</th>\n",
       "      <th>BsmtFinSF1</th>\n",
       "      <th>BsmtFinSF2</th>\n",
       "      <th>BsmtUnfSF</th>\n",
       "      <th>TotalBsmtSF</th>\n",
       "      <th>...</th>\n",
       "      <th>GarageArea</th>\n",
       "      <th>WoodDeckSF</th>\n",
       "      <th>OpenPorchSF</th>\n",
       "      <th>EnclosedPorch</th>\n",
       "      <th>3SsnPorch</th>\n",
       "      <th>ScreenPorch</th>\n",
       "      <th>PoolArea</th>\n",
       "      <th>MiscVal</th>\n",
       "      <th>MoSold</th>\n",
       "      <th>YrSold</th>\n",
       "    </tr>\n",
       "  </thead>\n",
       "  <tbody>\n",
       "    <tr>\n",
       "      <th>0</th>\n",
       "      <td>20</td>\n",
       "      <td>11622</td>\n",
       "      <td>5</td>\n",
       "      <td>6</td>\n",
       "      <td>1961</td>\n",
       "      <td>1961</td>\n",
       "      <td>468.0</td>\n",
       "      <td>144.0</td>\n",
       "      <td>270.0</td>\n",
       "      <td>882.0</td>\n",
       "      <td>...</td>\n",
       "      <td>730.0</td>\n",
       "      <td>140</td>\n",
       "      <td>0</td>\n",
       "      <td>0</td>\n",
       "      <td>0</td>\n",
       "      <td>120</td>\n",
       "      <td>0</td>\n",
       "      <td>0</td>\n",
       "      <td>6</td>\n",
       "      <td>2010</td>\n",
       "    </tr>\n",
       "    <tr>\n",
       "      <th>1</th>\n",
       "      <td>20</td>\n",
       "      <td>14267</td>\n",
       "      <td>6</td>\n",
       "      <td>6</td>\n",
       "      <td>1958</td>\n",
       "      <td>1958</td>\n",
       "      <td>923.0</td>\n",
       "      <td>0.0</td>\n",
       "      <td>406.0</td>\n",
       "      <td>1329.0</td>\n",
       "      <td>...</td>\n",
       "      <td>312.0</td>\n",
       "      <td>393</td>\n",
       "      <td>36</td>\n",
       "      <td>0</td>\n",
       "      <td>0</td>\n",
       "      <td>0</td>\n",
       "      <td>0</td>\n",
       "      <td>12500</td>\n",
       "      <td>6</td>\n",
       "      <td>2010</td>\n",
       "    </tr>\n",
       "    <tr>\n",
       "      <th>2</th>\n",
       "      <td>60</td>\n",
       "      <td>13830</td>\n",
       "      <td>5</td>\n",
       "      <td>5</td>\n",
       "      <td>1997</td>\n",
       "      <td>1998</td>\n",
       "      <td>791.0</td>\n",
       "      <td>0.0</td>\n",
       "      <td>137.0</td>\n",
       "      <td>928.0</td>\n",
       "      <td>...</td>\n",
       "      <td>482.0</td>\n",
       "      <td>212</td>\n",
       "      <td>34</td>\n",
       "      <td>0</td>\n",
       "      <td>0</td>\n",
       "      <td>0</td>\n",
       "      <td>0</td>\n",
       "      <td>0</td>\n",
       "      <td>3</td>\n",
       "      <td>2010</td>\n",
       "    </tr>\n",
       "    <tr>\n",
       "      <th>3</th>\n",
       "      <td>60</td>\n",
       "      <td>9978</td>\n",
       "      <td>6</td>\n",
       "      <td>6</td>\n",
       "      <td>1998</td>\n",
       "      <td>1998</td>\n",
       "      <td>602.0</td>\n",
       "      <td>0.0</td>\n",
       "      <td>324.0</td>\n",
       "      <td>926.0</td>\n",
       "      <td>...</td>\n",
       "      <td>470.0</td>\n",
       "      <td>360</td>\n",
       "      <td>36</td>\n",
       "      <td>0</td>\n",
       "      <td>0</td>\n",
       "      <td>0</td>\n",
       "      <td>0</td>\n",
       "      <td>0</td>\n",
       "      <td>6</td>\n",
       "      <td>2010</td>\n",
       "    </tr>\n",
       "    <tr>\n",
       "      <th>4</th>\n",
       "      <td>120</td>\n",
       "      <td>5005</td>\n",
       "      <td>8</td>\n",
       "      <td>5</td>\n",
       "      <td>1992</td>\n",
       "      <td>1992</td>\n",
       "      <td>263.0</td>\n",
       "      <td>0.0</td>\n",
       "      <td>1017.0</td>\n",
       "      <td>1280.0</td>\n",
       "      <td>...</td>\n",
       "      <td>506.0</td>\n",
       "      <td>0</td>\n",
       "      <td>82</td>\n",
       "      <td>0</td>\n",
       "      <td>0</td>\n",
       "      <td>144</td>\n",
       "      <td>0</td>\n",
       "      <td>0</td>\n",
       "      <td>1</td>\n",
       "      <td>2010</td>\n",
       "    </tr>\n",
       "  </tbody>\n",
       "</table>\n",
       "<p>5 rows × 33 columns</p>\n",
       "</div>"
      ],
      "text/plain": [
       "   MSSubClass  LotArea  OverallQual  OverallCond  YearBuilt  YearRemodAdd  \\\n",
       "0          20    11622            5            6       1961          1961   \n",
       "1          20    14267            6            6       1958          1958   \n",
       "2          60    13830            5            5       1997          1998   \n",
       "3          60     9978            6            6       1998          1998   \n",
       "4         120     5005            8            5       1992          1992   \n",
       "\n",
       "   BsmtFinSF1  BsmtFinSF2  BsmtUnfSF  TotalBsmtSF  ...  GarageArea  \\\n",
       "0       468.0       144.0      270.0        882.0  ...       730.0   \n",
       "1       923.0         0.0      406.0       1329.0  ...       312.0   \n",
       "2       791.0         0.0      137.0        928.0  ...       482.0   \n",
       "3       602.0         0.0      324.0        926.0  ...       470.0   \n",
       "4       263.0         0.0     1017.0       1280.0  ...       506.0   \n",
       "\n",
       "   WoodDeckSF  OpenPorchSF  EnclosedPorch  3SsnPorch  ScreenPorch  PoolArea  \\\n",
       "0         140            0              0          0          120         0   \n",
       "1         393           36              0          0            0         0   \n",
       "2         212           34              0          0            0         0   \n",
       "3         360           36              0          0            0         0   \n",
       "4           0           82              0          0          144         0   \n",
       "\n",
       "   MiscVal  MoSold  YrSold  \n",
       "0        0       6    2010  \n",
       "1    12500       6    2010  \n",
       "2        0       3    2010  \n",
       "3        0       6    2010  \n",
       "4        0       1    2010  \n",
       "\n",
       "[5 rows x 33 columns]"
      ]
     },
     "execution_count": 26,
     "metadata": {},
     "output_type": "execute_result"
    }
   ],
   "source": [
    "clean_test_df = clean_test_df.drop(['LotFrontage','MasVnrArea','GarageYrBlt','Id'],axis=1)\n",
    "clean_test_df.info()\n",
    "clean_test_df.head()"
   ]
  },
  {
   "cell_type": "code",
   "execution_count": 27,
   "id": "b048624b",
   "metadata": {
    "execution": {
     "iopub.execute_input": "2022-11-28T15:19:16.290096Z",
     "iopub.status.busy": "2022-11-28T15:19:16.289653Z",
     "iopub.status.idle": "2022-11-28T15:19:16.299560Z",
     "shell.execute_reply": "2022-11-28T15:19:16.298691Z"
    },
    "papermill": {
     "duration": 0.025847,
     "end_time": "2022-11-28T15:19:16.301786",
     "exception": false,
     "start_time": "2022-11-28T15:19:16.275939",
     "status": "completed"
    },
    "tags": []
   },
   "outputs": [],
   "source": [
    "X_test = clean_test_df.values.tolist()"
   ]
  },
  {
   "cell_type": "code",
   "execution_count": 28,
   "id": "b6f348a0",
   "metadata": {
    "execution": {
     "iopub.execute_input": "2022-11-28T15:19:16.330401Z",
     "iopub.status.busy": "2022-11-28T15:19:16.329940Z",
     "iopub.status.idle": "2022-11-28T15:19:16.338275Z",
     "shell.execute_reply": "2022-11-28T15:19:16.336886Z"
    },
    "papermill": {
     "duration": 0.025522,
     "end_time": "2022-11-28T15:19:16.340751",
     "exception": false,
     "start_time": "2022-11-28T15:19:16.315229",
     "status": "completed"
    },
    "tags": []
   },
   "outputs": [
    {
     "data": {
      "text/plain": [
       "[20.0,\n",
       " 11622.0,\n",
       " 5.0,\n",
       " 6.0,\n",
       " 1961.0,\n",
       " 1961.0,\n",
       " 468.0,\n",
       " 144.0,\n",
       " 270.0,\n",
       " 882.0,\n",
       " 896.0,\n",
       " 0.0,\n",
       " 0.0,\n",
       " 896.0,\n",
       " 0.0,\n",
       " 0.0,\n",
       " 1.0,\n",
       " 0.0,\n",
       " 2.0,\n",
       " 1.0,\n",
       " 5.0,\n",
       " 0.0,\n",
       " 1.0,\n",
       " 730.0,\n",
       " 140.0,\n",
       " 0.0,\n",
       " 0.0,\n",
       " 0.0,\n",
       " 120.0,\n",
       " 0.0,\n",
       " 0.0,\n",
       " 6.0,\n",
       " 2010.0]"
      ]
     },
     "execution_count": 28,
     "metadata": {},
     "output_type": "execute_result"
    }
   ],
   "source": [
    "X_test[0]"
   ]
  },
  {
   "cell_type": "code",
   "execution_count": 29,
   "id": "f19bb262",
   "metadata": {
    "execution": {
     "iopub.execute_input": "2022-11-28T15:19:16.369694Z",
     "iopub.status.busy": "2022-11-28T15:19:16.369287Z",
     "iopub.status.idle": "2022-11-28T15:19:16.404724Z",
     "shell.execute_reply": "2022-11-28T15:19:16.402709Z"
    },
    "papermill": {
     "duration": 0.053613,
     "end_time": "2022-11-28T15:19:16.407773",
     "exception": false,
     "start_time": "2022-11-28T15:19:16.354160",
     "status": "completed"
    },
    "tags": []
   },
   "outputs": [
    {
     "name": "stdout",
     "output_type": "stream",
     "text": [
      "X_mu = [5.68972603e+01 1.05168281e+04 6.09931507e+00 5.57534247e+00\n",
      " 1.97126781e+03 1.98486575e+03 4.43639726e+02 4.65493151e+01\n",
      " 5.67240411e+02 1.05742945e+03 1.16262671e+03 3.46992466e+02\n",
      " 5.84452055e+00 1.51546370e+03 4.25342466e-01 5.75342466e-02\n",
      " 1.56506849e+00 3.82876712e-01 2.86643836e+00 1.04657534e+00\n",
      " 6.51780822e+00 6.13013699e-01 1.76712329e+00 4.72980137e+02\n",
      " 9.42445205e+01 4.66602740e+01 2.19541096e+01 3.40958904e+00\n",
      " 1.50609589e+01 2.75890411e+00 4.34890411e+01 6.32191781e+00\n",
      " 2.00781575e+03], \n",
      "X_sigma = [4.27322277e+01 4.95381878e+03 1.43631916e+00 1.11335786e+00\n",
      " 3.03796544e+01 2.11232242e+01 4.55053008e+02 1.76638105e+02\n",
      " 4.36964492e+02 4.42685513e+02 3.98029345e+02 4.20466058e+02\n",
      " 4.40281546e+01 4.85399666e+02 5.30345352e-01 2.53398213e-01\n",
      " 5.54999592e-01 5.02844263e-01 8.29503945e-01 2.08400217e-01\n",
      " 1.50837739e+00 6.47198544e-01 7.75672236e-01 2.17119084e+02\n",
      " 1.27701096e+02 6.88597537e+01 6.72047225e+01 2.02009153e+01\n",
      " 5.65903594e+01 3.04811950e+01 6.30590763e+02 2.72149876e+00\n",
      " 1.30129397e+00]\n",
      "Peak to Peak range by column in Raw        X:[1.700e+02 5.513e+04 9.000e+00 8.000e+00 1.310e+02 6.000e+01 4.010e+03\n",
      " 1.526e+03 2.140e+03 5.095e+03 4.688e+03 1.862e+03 1.064e+03 4.688e+03\n",
      " 3.000e+00 2.000e+00 4.000e+00 2.000e+00 6.000e+00 2.000e+00 1.200e+01\n",
      " 4.000e+00 5.000e+00 1.488e+03 1.424e+03 7.420e+02 1.012e+03 3.600e+02\n",
      " 5.760e+02 8.000e+02 1.700e+04 1.100e+01 4.000e+00]\n",
      "Peak to Peak range by column in Normalized X:[ 3.97826205 11.12878821  6.26601681  7.18547045  4.31209646  2.84047545\n",
      "  8.81216019  8.63913251  4.8974231  11.50929915 11.77802608  4.42841928\n",
      " 24.16635466  9.65802065  5.65669141  7.89271548  7.20721251  3.9773746\n",
      "  7.23323865  9.59691901  7.95556874  6.18048362  6.44602162  6.85338189\n",
      " 11.15103979 10.77552504 15.05846558 17.82097465 10.17841212 26.24569016\n",
      " 26.95884717  4.0418905   3.07386348]\n"
     ]
    }
   ],
   "source": [
    "X_norm_test, X_mu_test, X_sigma_test = zscore_normalize_features(X_test)\n",
    "print(f\"X_mu = {X_mu}, \\nX_sigma = {X_sigma_test}\")\n",
    "print(f\"Peak to Peak range by column in Raw        X:{np.ptp(X_test,axis=0)}\")   \n",
    "print(f\"Peak to Peak range by column in Normalized X:{np.ptp(X_norm_test,axis=0)}\")"
   ]
  },
  {
   "cell_type": "code",
   "execution_count": 30,
   "id": "82426e5a",
   "metadata": {
    "execution": {
     "iopub.execute_input": "2022-11-28T15:19:16.436321Z",
     "iopub.status.busy": "2022-11-28T15:19:16.435886Z",
     "iopub.status.idle": "2022-11-28T15:19:16.445011Z",
     "shell.execute_reply": "2022-11-28T15:19:16.443559Z"
    },
    "papermill": {
     "duration": 0.02667,
     "end_time": "2022-11-28T15:19:16.447725",
     "exception": false,
     "start_time": "2022-11-28T15:19:16.421055",
     "status": "completed"
    },
    "tags": []
   },
   "outputs": [],
   "source": [
    "m,_ = X_norm_test.shape\n",
    "predictions = []\n",
    "for i in range(m):\n",
    "    val =np.dot(X_norm_test[i], w_final) + b_final\n",
    "    predictions.append(val)\n",
    "    #print(f\"prediction: {np.dot(X_norm_test[i], w_final) + b_final:0.2f}\")"
   ]
  },
  {
   "cell_type": "code",
   "execution_count": 31,
   "id": "33a10354",
   "metadata": {
    "execution": {
     "iopub.execute_input": "2022-11-28T15:19:16.476496Z",
     "iopub.status.busy": "2022-11-28T15:19:16.476091Z",
     "iopub.status.idle": "2022-11-28T15:19:16.492019Z",
     "shell.execute_reply": "2022-11-28T15:19:16.490377Z"
    },
    "papermill": {
     "duration": 0.032965,
     "end_time": "2022-11-28T15:19:16.494526",
     "exception": false,
     "start_time": "2022-11-28T15:19:16.461561",
     "status": "completed"
    },
    "tags": []
   },
   "outputs": [
    {
     "name": "stderr",
     "output_type": "stream",
     "text": [
      "/opt/conda/lib/python3.7/site-packages/ipykernel_launcher.py:2: SettingWithCopyWarning: \n",
      "A value is trying to be set on a copy of a slice from a DataFrame.\n",
      "Try using .loc[row_indexer,col_indexer] = value instead\n",
      "\n",
      "See the caveats in the documentation: https://pandas.pydata.org/pandas-docs/stable/user_guide/indexing.html#returning-a-view-versus-a-copy\n",
      "  \n"
     ]
    },
    {
     "data": {
      "text/html": [
       "<div>\n",
       "<style scoped>\n",
       "    .dataframe tbody tr th:only-of-type {\n",
       "        vertical-align: middle;\n",
       "    }\n",
       "\n",
       "    .dataframe tbody tr th {\n",
       "        vertical-align: top;\n",
       "    }\n",
       "\n",
       "    .dataframe thead th {\n",
       "        text-align: right;\n",
       "    }\n",
       "</style>\n",
       "<table border=\"1\" class=\"dataframe\">\n",
       "  <thead>\n",
       "    <tr style=\"text-align: right;\">\n",
       "      <th></th>\n",
       "      <th>Id</th>\n",
       "      <th>SalePrice</th>\n",
       "    </tr>\n",
       "  </thead>\n",
       "  <tbody>\n",
       "    <tr>\n",
       "      <th>0</th>\n",
       "      <td>1461</td>\n",
       "      <td>124588.391881</td>\n",
       "    </tr>\n",
       "    <tr>\n",
       "      <th>1</th>\n",
       "      <td>1462</td>\n",
       "      <td>159373.351017</td>\n",
       "    </tr>\n",
       "    <tr>\n",
       "      <th>2</th>\n",
       "      <td>1463</td>\n",
       "      <td>182887.174892</td>\n",
       "    </tr>\n",
       "    <tr>\n",
       "      <th>3</th>\n",
       "      <td>1464</td>\n",
       "      <td>207336.986648</td>\n",
       "    </tr>\n",
       "    <tr>\n",
       "      <th>4</th>\n",
       "      <td>1465</td>\n",
       "      <td>199156.105120</td>\n",
       "    </tr>\n",
       "    <tr>\n",
       "      <th>...</th>\n",
       "      <td>...</td>\n",
       "      <td>...</td>\n",
       "    </tr>\n",
       "    <tr>\n",
       "      <th>1454</th>\n",
       "      <td>2915</td>\n",
       "      <td>58369.121094</td>\n",
       "    </tr>\n",
       "    <tr>\n",
       "      <th>1455</th>\n",
       "      <td>2916</td>\n",
       "      <td>68557.544144</td>\n",
       "    </tr>\n",
       "    <tr>\n",
       "      <th>1456</th>\n",
       "      <td>2917</td>\n",
       "      <td>186478.477446</td>\n",
       "    </tr>\n",
       "    <tr>\n",
       "      <th>1457</th>\n",
       "      <td>2918</td>\n",
       "      <td>106966.627093</td>\n",
       "    </tr>\n",
       "    <tr>\n",
       "      <th>1458</th>\n",
       "      <td>2919</td>\n",
       "      <td>260913.057628</td>\n",
       "    </tr>\n",
       "  </tbody>\n",
       "</table>\n",
       "<p>1459 rows × 2 columns</p>\n",
       "</div>"
      ],
      "text/plain": [
       "        Id      SalePrice\n",
       "0     1461  124588.391881\n",
       "1     1462  159373.351017\n",
       "2     1463  182887.174892\n",
       "3     1464  207336.986648\n",
       "4     1465  199156.105120\n",
       "...    ...            ...\n",
       "1454  2915   58369.121094\n",
       "1455  2916   68557.544144\n",
       "1456  2917  186478.477446\n",
       "1457  2918  106966.627093\n",
       "1458  2919  260913.057628\n",
       "\n",
       "[1459 rows x 2 columns]"
      ]
     },
     "execution_count": 31,
     "metadata": {},
     "output_type": "execute_result"
    }
   ],
   "source": [
    "#submission = test_df[[\"Id\"]]\n",
    "submission[\"SalePrice\"] = predictions\n",
    "submission\n"
   ]
  },
  {
   "cell_type": "code",
   "execution_count": 32,
   "id": "47baf366",
   "metadata": {
    "execution": {
     "iopub.execute_input": "2022-11-28T15:19:16.522918Z",
     "iopub.status.busy": "2022-11-28T15:19:16.522495Z",
     "iopub.status.idle": "2022-11-28T15:19:16.533270Z",
     "shell.execute_reply": "2022-11-28T15:19:16.532233Z"
    },
    "papermill": {
     "duration": 0.027745,
     "end_time": "2022-11-28T15:19:16.535899",
     "exception": false,
     "start_time": "2022-11-28T15:19:16.508154",
     "status": "completed"
    },
    "tags": []
   },
   "outputs": [],
   "source": [
    "submission.to_csv(\"submission.csv\", index = None)"
   ]
  },
  {
   "cell_type": "markdown",
   "id": "11bae028",
   "metadata": {
    "papermill": {
     "duration": 0.012783,
     "end_time": "2022-11-28T15:19:16.562278",
     "exception": false,
     "start_time": "2022-11-28T15:19:16.549495",
     "status": "completed"
    },
    "tags": []
   },
   "source": [
    "Score: 0.23905"
   ]
  }
 ],
 "metadata": {
  "kernelspec": {
   "display_name": "Python 3",
   "language": "python",
   "name": "python3"
  },
  "language_info": {
   "codemirror_mode": {
    "name": "ipython",
    "version": 3
   },
   "file_extension": ".py",
   "mimetype": "text/x-python",
   "name": "python",
   "nbconvert_exporter": "python",
   "pygments_lexer": "ipython3",
   "version": "3.7.12"
  },
  "papermill": {
   "default_parameters": {},
   "duration": 398.479936,
   "end_time": "2022-11-28T15:19:17.299554",
   "environment_variables": {},
   "exception": null,
   "input_path": "__notebook__.ipynb",
   "output_path": "__notebook__.ipynb",
   "parameters": {},
   "start_time": "2022-11-28T15:12:38.819618",
   "version": "2.3.4"
  }
 },
 "nbformat": 4,
 "nbformat_minor": 5
}
